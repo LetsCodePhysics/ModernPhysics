{
 "cells": [
  {
   "cell_type": "markdown",
   "metadata": {},
   "source": [
    "# Assignment 8 Studying an Unsolvable Potential Energy\n",
    "\n",
    "based on https://www.compadre.org/PICUP/exercises/exercise.cfm?I=115&A=shooting by Andy Rundquist\n",
    "\n",
    "This Assignment should take you approximately 90 minutes to complete. This Assignment assumes you've successfully completed Assignments 6 and 7 prior to beginning this Assignment.\n",
    "\n",
    "After completing this Assignment, you will be able to...\n",
    "* Apply the Shooting Method to an unsolvable potential energy to determine eigenenergies and eigenfunctions.\n",
    "* Calculate expectation values of your selected potential energy using numerical integration.\n",
    "* Calculate uncertainty based on expectation values.\n",
    "* Evaluate patterns in expectation values and uncertainty based on changes in energy level.\n",
    "\n",
    "Dr. Lane welcomes your questions about this assignment. Please send or bring a copy of your work-in-progress with your questions."
   ]
  },
  {
   "cell_type": "markdown",
   "metadata": {},
   "source": [
    "Review the Theory of Assignments 6 & 7 before proceeding. Summarize the Shooting Method below.\n",
    "\n",
    "[Add your answer here.]\n",
    "\n",
    "## Step 1: Pick a Potential Energy\n",
    "\n",
    "Select a potential energy function $V(x)$ that is analytically unsolvable. This is nearly any potential energy function besides the ones we've solved already. You might like for your potential energy function to exhibit the following properties:\n",
    "* $V \\rightarrow \\infty$ as $x \\rightarrow \\pm \\infty$.\n",
    "* $V$ has a minimum that isn't infinitely deep.\n",
    "* You know the locations of all of $V$'s minima.\n",
    "\n",
    "Here are some that might be fun to try:\n",
    "* $V(x) = |x|$\n",
    "* $V(x) = e^{x^2} \\sin^2(x)$\n",
    "* $V(x) = (x+1)(x-1)x^2$\n",
    "* $V(x) = \\tanh^2(x)$\n",
    "* A series of finite square wells of the same width and depth.\n",
    "* A series of finite square wells of different widths and depths."
   ]
  },
  {
   "cell_type": "markdown",
   "metadata": {},
   "source": [
    "## Step 2: Get $E_n$ and $\\psi_n$\n",
    "\n",
    "Add your selected $V(x)$ to the code cell below. Use the Shooting Method to determine the lowest 5 eigenergies $E_n$ and graph their eigenfunctions $\\psi_n$. What patterns do you notice in the eigenergies and eigenfunctions as the energy level increases?\n",
    "\n",
    "[Add your answers here.]"
   ]
  },
  {
   "cell_type": "code",
   "execution_count": 21,
   "metadata": {},
   "outputs": [],
   "source": [
    "from pylab import *\n",
    "\n",
    "#UNITS: All lengths are in nm, all energies/masses are in eV.\n",
    "hbar = 197 # hbar*c = 197 eV*nm\n",
    "me = 511000 # me*c^2 = 511000 eV\n",
    "\n",
    "def V(x):\n",
    "    return ??\n",
    "\n",
    "def psiDoublePrime(x,psi):\n",
    "    return 2*me/hbar**2*(V(x)-E)*psi"
   ]
  },
  {
   "cell_type": "code",
   "execution_count": 20,
   "metadata": {},
   "outputs": [
    {
     "data": {
      "image/png": "[encoded data removed]",
      "text/plain": [
       "<Figure size 432x288 with 1 Axes>"
      ]
     },
     "metadata": {
      "needs_background": "light"
     },
     "output_type": "display_data"
    }
   ],
   "source": [
    "# Enter your guess for the energy here. Units are eV.\n",
    "E = 0.5\n",
    "\n",
    "# Enter minimum and maximum x and initial values for psi and psiPrime.\n",
    "xmin = -2\n",
    "xmax = -xmin\n",
    "psi = 0\n",
    "psiPrime = 1\n",
    "nPoints = 100\n",
    "\n",
    "dx = (xmax-xmin)/nPoints\n",
    "\n",
    "xArray = linspace(xmin,xmax,nPoints)\n",
    "psiArray = zeros(nPoints)\n",
    "\n",
    "for i in range(len(xArray)):\n",
    "    psiArray[i] = psi # Record previous value of psi.\n",
    "    psiPrime += psiDoublePrime(xArray[i],psi)*dx # Step forward with psiPrime.\n",
    "    psi += psiPrime*dx # Step forward with psi.\n",
    "\n",
    "# Create plot\n",
    "figure(1)\n",
    "plot(xArray, psiArray, linewidth=2)\n",
    "xlabel('x (nm)')\n",
    "ylabel('psi (nm^-1/2)')\n",
    "grid(True)\n",
    "show()"
   ]
  },
  {
   "cell_type": "markdown",
   "metadata": {},
   "source": [
    "## Step 3: $\\langle x \\rangle$ and $\\langle x^2 \\rangle$ for your Potential Energy\n",
    "\n",
    "Summarize the method for calcualting expectation values.\n",
    "\n",
    "[Add your answer here.]\n",
    "\n",
    "In the code cell below, finish the loop so that it calculates and prints $\\langle x \\rangle$ and $\\langle x^2 \\rangle$. Record these values for each energy level that you found above. What patterns do you notice as you increase the energy level?\n",
    "\n",
    "[Add your answers here.]"
   ]
  },
  {
   "cell_type": "code",
   "execution_count": 11,
   "metadata": {},
   "outputs": [
    {
     "name": "stdout",
     "output_type": "stream",
     "text": [
      "0.0047300731033367155\n"
     ]
    }
   ],
   "source": [
    "expectationX = 0\n",
    "expectationX2 = 0\n",
    "for i in range(len(rArray)):\n",
    "    expectationX = expectationX + ??\n",
    "    expectationX2 = expectationX2 + ??\n",
    "print(expectationX)\n",
    "print(expectationX2)"
   ]
  },
  {
   "cell_type": "markdown",
   "metadata": {},
   "source": [
    "## Step 4: Uncertainty\n",
    "\n",
    "Calculate $\\Delta r$ for each energy level that you studied above. What pattern do you notice in $\\Delta x$ as the energy level increses? (You might like to have Python do the math for you.)\n",
    "\n",
    "[Add your answer here.]"
   ]
  },
  {
   "cell_type": "code",
   "execution_count": 12,
   "metadata": {},
   "outputs": [],
   "source": [
    "# Here's a code cell, in case that's helpful!"
   ]
  },
  {
   "cell_type": "markdown",
   "metadata": {},
   "source": [
    "## Step 5: $\\langle p \\rangle$ and $\\langle p^2 \\rangle$ for your Potential Energy\n",
    "\n",
    "In the code cell below, calculate and print $\\langle p \\rangle$ and $\\langle p^2 \\rangle$ as you did in Assingment 7. Record these values for each energy level that you found above. What patterns do you notice as you increase the energy level?\n",
    "\n",
    "[Add your answers here.]"
   ]
  },
  {
   "cell_type": "code",
   "execution_count": null,
   "metadata": {},
   "outputs": [],
   "source": []
  },
  {
   "cell_type": "markdown",
   "metadata": {},
   "source": [
    "## Step 6: The Uncertainty Principle\n",
    "\n",
    "The Heisenberg Uncertainty Principle (HUP) says that it's impossible to know with exact precision both the position and momentum of an electron at the same time. Mathematically, this is expressed as \n",
    "\n",
    "$$\\Delta p \\Delta x > 0$$.\n",
    "\n",
    "(Actually, it's greater than or equal to a minimum value of $\\hbar/2$, but that requires us to normalize $\\psi$ and I've overloaded your brain enough already.) Confirm that the HUP applies to $\\Delta p$ and $\\Delta x$ for each energy level you've investigated above.\n",
    "\n",
    "[Add your answers here.]"
   ]
  },
  {
   "cell_type": "markdown",
   "metadata": {},
   "source": [
    "# Extra Credit\n",
    "\n",
    "## Step 7\n",
    "\n",
    "Repeat this worksheet for another unsolvable potential energy."
   ]
  }
 ],
 "metadata": {
  "kernelspec": {
   "display_name": "Python 3",
   "language": "python",
   "name": "python3"
  },
  "language_info": {
   "codemirror_mode": {
    "name": "ipython",
    "version": 3
   },
   "file_extension": ".py",
   "mimetype": "text/x-python",
   "name": "python",
   "nbconvert_exporter": "python",
   "pygments_lexer": "ipython3",
   "version": "3.6.5"
  }
 },
 "nbformat": 4,
 "nbformat_minor": 2
}
