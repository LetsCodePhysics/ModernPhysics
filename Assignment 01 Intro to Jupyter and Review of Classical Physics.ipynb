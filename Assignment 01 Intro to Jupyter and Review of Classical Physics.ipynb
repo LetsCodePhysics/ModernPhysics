{
 "cells": [
  {
   "cell_type": "markdown",
   "metadata": {},
   "source": [
    "# Assignment 1 Intro to Jupyter and Review of Classical Physics\n",
    "\n",
    "Welcome to Jupyter notebook. Researchers like yourself use this program to develop, run, and discuss code. In this class, we will be using the Python programming language in the Jupyter notebook environment as a tool to study modern physics. I don't assume you have any experience with Python or Jupyter, just as your Precalculus instructor didn't assume you had any experience with a graphing calculator.\n",
    "This first Assignment will help you get started with Jupyter. There's no new physics to worry about.\n",
    "\n",
    "This Assignment should take you approximately 120 minutes to complete.\n",
    "\n",
    "After completing this assignment, you will be able to...\n",
    "* Edit, save, and submit a Jupyter notebook. (Step 1)\n",
    "* Document mathematical work with $\\LaTeX$. (Step 2)\n",
    "* Read a code. (Step 3)\n",
    "* Modify an existing python code. (Steps 4, 7, 8)\n",
    "* Add to an existing python code. (Step 5, 8)\n",
    "* Read and interpret a code's error messages. (Step 6)\n",
    "* Fix a code based on its error messages. (Step 6)\n",
    "* Repeat a set of code with a loop. (Step 7)\n",
    "* Graph numerical data. (Step 8)\n",
    "\n",
    "Dr. Lane welcomes your questions about this assignment. Please send or bring a copy of your work-in-progress with your questions."
   ]
  },
  {
   "cell_type": "markdown",
   "metadata": {},
   "source": [
    "## Step 1\n",
    "\n",
    "A notebook is organized into **cells**. Double click on this text and you'll be able to edit this cell. This is a **markdown cell**. You'll use markdown cells to write your assiginment answers, right here in the notebook. In the space below, write a few sentences to tell me about your favorite concept from a physics class you've taken before.\n",
    "\n",
    "[Add your answer here. You can use one asterisk to *make something italics* or two asterisks to **make something bold**.]\n",
    "\n",
    "When you're finished, press Ctrl+Enter (or click Run just below the menu above) to finalize the cell.\n",
    "\n",
    "Then, click on File $\\rightarrow$ Save and Checkpoint to save your work.\n",
    "\n",
    "Double-click on the Assignment title above and rename it to include your name (so I can more easily identify whose it is)."
   ]
  },
  {
   "cell_type": "markdown",
   "metadata": {},
   "source": [
    "## Step 2\n",
    "\n",
    "Jupyter notebook allows you to format mathematics using the $\\LaTeX$ (pronounced \"lay-tek\" or \"lah-tek\", with no \"s\" sound at the end) typesetting language. $\\LaTeX$ is the standard means of formatting mathematical statements. For example, if you want to write a quadratic function, you can make it look like $f(x) = x^2 + x - 1$.\n",
    "\n",
    "Double-click on this cell and you'll see how to use $\\LaTeX$. First, you type a dollar sign to start the $\\LaTeX$. Then, you type out the mathematics as you probably already would. When you need a superscript for a power, use a caret ^; when you need a subscript for a label, use an underscore _. You can create a fraction using \\frac{numerator}{demonimator} to get $\\frac{y}{x}$. Finally, add another dollar sign at the end to say that you're done with $\\LaTeX$.\n",
    "\n",
    "You can also use all sorts of special characters. If you need an integral, type in \\int to get $\\int$. If you need a delta, type in \\delta for lowercase $\\delta$ and \\Delta for uppercase $\\Delta$. The best place to find out the name of a symbol is [Detexify](https://detexify.kirelabs.org/classify.html).\n",
    "\n",
    "In the space below, use $\\LaTeX$ to format one equation based on the favorite physics concept you described in Step 1.\n",
    "\n",
    "[Add $\\LaTeX$ here.]"
   ]
  },
  {
   "cell_type": "markdown",
   "metadata": {},
   "source": [
    "## Step 3\n",
    "\n",
    "Now that you've practiced communicating about physics, let's generate some physics data using Python code. Let's suppose you wanted to model an electron moving in a circle. You probably recall that circular motion is goverend by sine and cosine:\n",
    "$$ \\begin{eqnarray}\n",
    "x & = & \\cos(t) \\\\\n",
    "y & = & \\sin(t)\n",
    "\\end{eqnarray} $$\n",
    "\n",
    "(These equations are missing units, but Python doesn't *know* about units, so it's fine.) We could model this in Python by giving a value for time and having Python calculate $x$ and $y$. The **code cell** below performs just such a calculation.\n",
    "\n",
    "To **read a code**, you start in the first line and work your way down. The computer reads code in the same way, performing each step in order. The first line imports a library called pylab, which will allow us to use cosine and sine functions. Read through the rest of the code and describe what you think it will do. (Hint: Think of this code as a series of instructions for your graphing calculator.)\n",
    "\n",
    "[Add your description here.]"
   ]
  },
  {
   "cell_type": "code",
   "execution_count": 1,
   "metadata": {},
   "outputs": [
    {
     "name": "stdout",
     "output_type": "stream",
     "text": [
      "0.5403023058681398 0.8414709848078965\n"
     ]
    }
   ],
   "source": [
    "from pylab import *\n",
    "\n",
    "t = 1\n",
    "x = cos(t)\n",
    "y = sin(t)\n",
    "\n",
    "print(x,y)"
   ]
  },
  {
   "cell_type": "markdown",
   "metadata": {},
   "source": [
    "Now **run the code** by clicking inside the cell and pressing Ctrl+Enter (or the Run button above). What happens? Check the results with your graphing calculator.\n",
    "\n",
    "[Add your answer here.]"
   ]
  },
  {
   "cell_type": "markdown",
   "metadata": {},
   "source": [
    "## Step 4\n",
    "\n",
    "Now it's time for you to **modify** a piece of code. The code cell below is a copy of the one above. Change the value of t and run the code again. Repeat this a few times and confirm that it produces the correct results by comparing against the results from a calcualtor."
   ]
  },
  {
   "cell_type": "code",
   "execution_count": 4,
   "metadata": {},
   "outputs": [
    {
     "name": "stdout",
     "output_type": "stream",
     "text": [
      "0.5403023058681398 0.8414709848078965\n"
     ]
    }
   ],
   "source": [
    "from pylab import *\n",
    "\n",
    "t = 1\n",
    "x = cos(t)\n",
    "y = sin(t)\n",
    "\n",
    "print(x,y)"
   ]
  },
  {
   "cell_type": "markdown",
   "metadata": {},
   "source": [
    "## Step 5\n",
    "\n",
    "Let's suppose you now wanted to extend this code to model motion in three dimensions, tracking motion in the $z$-direction. Starting with the code cell below, add a line of code to calculate z using a power law $z = t^p$, using the code ``z = t**p``, and replacing ``p`` with a number of your choice. (Note that Python uses ``**`` as \"to the power of\" instead of the usual ^.) Think about *where* the calcualtion of ``z`` should go, based on how the computer will read the code from start to finish. Should it go before ``t = 1`` or after?\n",
    "\n",
    "Also, add a ``,z`` inside the print command at the end. "
   ]
  },
  {
   "cell_type": "code",
   "execution_count": 3,
   "metadata": {},
   "outputs": [],
   "source": [
    "from pylab import *\n",
    "\n",
    "t = 1\n",
    "x = cos(t)\n",
    "y = sin(t)\n",
    "\n",
    "print(x,y)"
   ]
  },
  {
   "cell_type": "markdown",
   "metadata": {},
   "source": [
    "## Step 6\n",
    "\n",
    "No one types up code correctly the first time, and researchers like yourself spend much of their time finding mistakes. One of the ways you can find and fix a mistake in a code is by reading the **error messages** that the code produces when it runs.\n",
    "\n",
    "The code below has a mistake that produces an error message. In the space below, describe what the error message is telling you and how you can fix it.\n",
    "\n",
    "[Add your answer here.]\n",
    "\n",
    "Then, fix, the mistake, run the code, and confirm that you were correct."
   ]
  },
  {
   "cell_type": "code",
   "execution_count": 9,
   "metadata": {},
   "outputs": [
    {
     "ename": "NameError",
     "evalue": "name 'a' is not defined",
     "output_type": "error",
     "traceback": [
      "\u001b[1;31m---------------------------------------------------------------------------\u001b[0m",
      "\u001b[1;31mNameError\u001b[0m                                 Traceback (most recent call last)",
      "\u001b[1;32m<ipython-input-9-77a0436caea6>\u001b[0m in \u001b[0;36m<module>\u001b[1;34m\u001b[0m\n\u001b[0;32m      4\u001b[0m \u001b[0mx\u001b[0m \u001b[1;33m=\u001b[0m \u001b[0mcos\u001b[0m\u001b[1;33m(\u001b[0m\u001b[0mt\u001b[0m\u001b[1;33m)\u001b[0m\u001b[1;33m\u001b[0m\u001b[0m\n\u001b[0;32m      5\u001b[0m \u001b[0my\u001b[0m \u001b[1;33m=\u001b[0m \u001b[0msin\u001b[0m\u001b[1;33m(\u001b[0m\u001b[0mt\u001b[0m\u001b[1;33m)\u001b[0m\u001b[1;33m\u001b[0m\u001b[0m\n\u001b[1;32m----> 6\u001b[1;33m \u001b[0mz\u001b[0m \u001b[1;33m=\u001b[0m \u001b[0ma\u001b[0m\u001b[1;33m**\u001b[0m\u001b[0mx\u001b[0m\u001b[1;33m\u001b[0m\u001b[0m\n\u001b[0m\u001b[0;32m      7\u001b[0m \u001b[1;33m\u001b[0m\u001b[0m\n\u001b[0;32m      8\u001b[0m \u001b[0mprint\u001b[0m\u001b[1;33m(\u001b[0m\u001b[0mx\u001b[0m\u001b[1;33m,\u001b[0m\u001b[0my\u001b[0m\u001b[1;33m,\u001b[0m\u001b[0mz\u001b[0m\u001b[1;33m)\u001b[0m\u001b[1;33m\u001b[0m\u001b[0m\n",
      "\u001b[1;31mNameError\u001b[0m: name 'a' is not defined"
     ]
    }
   ],
   "source": [
    "from pylab import *\n",
    "\n",
    "t = 1\n",
    "x = cos(t)\n",
    "y = sin(t)\n",
    "z = a**x\n",
    "\n",
    "print(x,y,z)"
   ]
  },
  {
   "cell_type": "markdown",
   "metadata": {},
   "source": [
    "## Step 7\n",
    "\n",
    "So far, we haven't done anything with Python that we couldn't do with a graphing calcualtor. One of the main advantages that a programming language like Python offers is the ability to repeat a set of instructions using a device called a **loop**. There are a few types of loop out there; I'm most fond of the **while loop**. A while loop is set up like this:\n",
    "\n",
    "``while (condition):\n",
    "    instructions to repeat``\n",
    "    \n",
    "The ``condition`` is an expression that the code will check. In a while loop, this can take a form like ``t < 7``, meaning *the loop will repeat as long as* ``t`` is less than 7. As soon as ``t`` is no longer less than 7, the loop stops and the code moves on.\n",
    "\n",
    "The ``instructions to repeat`` are lines of code just like the ones above, but they're **indented** to tell Python that this set of instructions falls within the loop. If a line isn't indented, Python ignores it until the loop is finished.\n",
    "\n",
    "So, let's suppose we want to get our electron moving around a circle. We could set up a loop to increase the value of time and calculate $x$ and $y$ for us. This would look like the following:"
   ]
  },
  {
   "cell_type": "code",
   "execution_count": 10,
   "metadata": {},
   "outputs": [
    {
     "name": "stdout",
     "output_type": "stream",
     "text": [
      "1 0.5403023058681398 0.8414709848078965\n",
      "2 -0.4161468365471424 0.9092974268256817\n",
      "3 -0.9899924966004454 0.1411200080598672\n",
      "4 -0.6536436208636119 -0.7568024953079282\n",
      "5 0.28366218546322625 -0.9589242746631385\n",
      "6 0.960170286650366 -0.27941549819892586\n",
      "7 0.7539022543433046 0.6569865987187891\n",
      "done\n"
     ]
    }
   ],
   "source": [
    "from pylab import *\n",
    "\n",
    "t = 0\n",
    "while (t < 7):\n",
    "    t = t + 1\n",
    "    x = cos(t)\n",
    "    y = sin(t)\n",
    "    print(t,x,y)\n",
    "print(\"done\")"
   ]
  },
  {
   "cell_type": "markdown",
   "metadata": {},
   "source": [
    "Run the code in the cell above. Answer the following questions:\n",
    "* Why do we need to set ``t = 0`` before the loop? (In other words, what happens if you delete this line?)\n",
    "* What lines are included in the loop? How can you tell that they are repeated when the code is run?\n",
    "* Why does the final line (``prin(\"done\")``) only occur once?\n",
    "* What happens in the line ``t = t + 1``? You wouldn't write this in a math class; is it legal?\n",
    "* The loop is supposed to run as long as ``t`` is less than 7, but it ends with ``t`` equal to 7. Why?\n",
    "\n",
    "[Add your answers here. Be sure to refer to the loop and line numbers.]\n",
    "\n",
    "Now **modify** the code above to give us more data points: Either change the while loop to repeat until it reaches a higher value of ``t`` or change the line ``t = t + 1`` to increase ``t`` by a smaller amount each time."
   ]
  },
  {
   "cell_type": "markdown",
   "metadata": {},
   "source": [
    "## Step 8\n",
    "\n",
    "The loop above produces correct results but we don't usually read off numerical values in physics. Python can also create **graphs** for us, with just a few additions to the code.\n",
    "* First, we need to add a command of ``%matplotlib inline`` at the beginning to tell matplotlib ([MAThematical PLOTting LIBrary](https://matplotlib.org/3.1.0/index.html)) to display the graphs we create in the notebook.\n",
    "* Second, we need to store our calcualtions in **arrays**. This requires first **creating an array** using commands of the form ``tArray = array(t)`` before the loop and **adding data to those arrays** using commands of the form ``tArray = append(tArray, t)``.\n",
    "* Finally, we create a graph using a handful of commands.\n",
    "\n",
    "The code below creates a graph of $x$ versus time and a graph of $y$ versus time."
   ]
  },
  {
   "cell_type": "code",
   "execution_count": 2,
   "metadata": {},
   "outputs": [
    {
     "data": {
      "image/png": "[encoded data removed]",
      "text/plain": [
       "<Figure size 432x288 with 1 Axes>"
      ]
     },
     "metadata": {
      "needs_background": "light"
     },
     "output_type": "display_data"
    },
    {
     "data": {
      "image/png": "[encoded data removed]",
      "text/plain": [
       "<Figure size 432x288 with 1 Axes>"
      ]
     },
     "metadata": {
      "needs_background": "light"
     },
     "output_type": "display_data"
    },
    {
     "name": "stdout",
     "output_type": "stream",
     "text": [
      "done\n"
     ]
    }
   ],
   "source": [
    "from pylab import *\n",
    "%matplotlib inline\n",
    "\n",
    "t = 0\n",
    "x = cos(t)\n",
    "y = sin(t)\n",
    "\n",
    "tArray = array(t)\n",
    "xArray = array(x)\n",
    "yArray = array(y)\n",
    "\n",
    "while (t < 7):\n",
    "    t = t + 1\n",
    "    x = cos(t)\n",
    "    y = sin(t)\n",
    "    \n",
    "    tArray = append(tArray,t)\n",
    "    xArray = append(xArray,x)\n",
    "    yArray = append(yArray,y)\n",
    "    \n",
    "plot(tArray, xArray, linewidth=2)\n",
    "xlabel('t')\n",
    "ylabel('x')\n",
    "grid(True)\n",
    "show()\n",
    "\n",
    "plot(tArray, yArray, linewidth=2)\n",
    "xlabel('t')\n",
    "ylabel('y')\n",
    "grid(True)\n",
    "show()\n",
    "\n",
    "print(\"done\")"
   ]
  },
  {
   "cell_type": "markdown",
   "metadata": {},
   "source": [
    "The graphs above are *correct*, but they aren't particularly *helpful* because of how jagged they are. **Modify** the code above to increase ``t`` by a smaller amount in each step of the loop. Adjust this amount until the graphs are smooth.\n",
    "\n",
    "## Step 9\n",
    "\n",
    "Now, **add  new lines of code** to create a graph of $y$ versus $x$. (You might copy and paste one of the other graphing commands that produced $y$ versus $t$ or $x$ versus $t$.) What shape do you expect? What shape do you get? (Hint: Before you say, \"an oval\", add ``axis(\"square\")`` just before the ``show()`` command for this graph.)\n",
    "\n",
    "[Add your answers here.]"
   ]
  },
  {
   "cell_type": "markdown",
   "metadata": {},
   "source": [
    "# EXTRA CREDIT\n",
    "\n",
    "## Step 10\n",
    "\n",
    "Copy, paste, and modify the code cell above so that your graph of $y$ versus $x$ produces...\n",
    "* a very eccentric ellipse\n",
    "* a spiral\n",
    "* an hourglass"
   ]
  }
 ],
 "metadata": {
  "kernelspec": {
   "display_name": "Python 3",
   "language": "python",
   "name": "python3"
  },
  "language_info": {
   "codemirror_mode": {
    "name": "ipython",
    "version": 3
   },
   "file_extension": ".py",
   "mimetype": "text/x-python",
   "name": "python",
   "nbconvert_exporter": "python",
   "pygments_lexer": "ipython3",
   "version": "3.6.8"
  }
 },
 "nbformat": 4,
 "nbformat_minor": 2
}
