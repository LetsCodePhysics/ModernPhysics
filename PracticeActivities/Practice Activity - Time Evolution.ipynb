{
 "cells": [
  {
   "cell_type": "markdown",
   "metadata": {},
   "source": [
    "## Moving the Wave Function Forward in Time\n",
    "\n",
    "When you've solved for the wave function $\\psi(x)$ on previous Assignments, you've been focused on **stationary states**, who have the special property that the modulus $|\\psi|^2$ keeps a constant shape over time. When we want to study general wave functions $\\Psi(x,t)$, the wave function can change shape and move around in space. We call these changes the **time evolution** of the wave function.\n",
    "\n",
    "In order to create a mobile (non-stationary) $\\Psi(x,t)$, we can set up a linear combintion of stationary states $\\psi$, each with a different wave number $k$. Suppose, for example, you have three stationary states $\\psi_1$, $\\psi_2$, and $\\psi_3$, each with a different wave number $k_1$, $k_2$, and $k_3$. A general $\\Psi(x,t)$ can be constructed using these stationary states as building blocks:\n",
    "\n",
    "$\\Psi(x,t) = a_1 \\psi_1 e^{-i \\omega_1 t /\\hbar} + a_2 \\psi_2 e^{-i \\omega_2 t /\\hbar} + a_3 \\psi_3 e^{-i \\omega_3 t /\\hbar}$,\n",
    "\n",
    "where $\\omega_j$ is the **angular frequency** of stationary state $j$. Each stationary state $j$ oscillates with a different frequency, and is related to $k_j$ based on the problem being studied. \n",
    "\n",
    "We're going to build a time-evolving $\\Psi(x,t)$ in the code cell below by making a few simplifications:\n",
    "1. We're going to set $\\hbar = 1$. We're only interested in the overall behavior of the wave function, not its exact values.\n",
    "2. We're going to use only the **real part** of the wave function, which will create **travelling waves** of the form $a_j \\cos(k_j x - \\omega_j t)$.\n",
    "3. The angular frequency $\\omega_j = k_j**2$. This is the behavior you'd see in an infinite square well problem.\n",
    "4. We're only going to use three stationary states. You can add more if you want, but the widgets start to get a bit crowded.\n",
    "\n",
    "Run the code cell below."
   ]
  },
  {
   "cell_type": "code",
   "execution_count": 1,
   "metadata": {},
   "outputs": [
    {
     "data": {
      "application/vnd.jupyter.widget-view+json": {
       "model_id": "142892f4ad36403fb242ce3d57e931ba",
       "version_major": 2,
       "version_minor": 0
      },
      "text/plain": [
       "Play(value=0, description='Press to play animation', interval=500, max=2513)"
      ]
     },
     "metadata": {},
     "output_type": "display_data"
    },
    {
     "data": {
      "application/vnd.jupyter.widget-view+json": {
       "model_id": "3f326f83fab54458b7eedc12fb568fe6",
       "version_major": 2,
       "version_minor": 0
      },
      "text/plain": [
       "interactive(children=(IntSlider(value=0, description='step', max=2513), FloatSlider(value=1.0, description='k1…"
      ]
     },
     "metadata": {},
     "output_type": "display_data"
    }
   ],
   "source": [
    "%matplotlib inline\n",
    "import ipywidgets as widgets\n",
    "from ipywidgets import interactive\n",
    "import matplotlib.pyplot as plt\n",
    "import numpy as np\n",
    "\n",
    "def graphPsi(step,k1,a1,k2,a2,k3,a3,dt):\n",
    "    plt.figure(2)\n",
    "    x = np.linspace(-5,5,num=1000)\n",
    "    norm = np.sqrt(a1**2 + a2**2 + a3**2)\n",
    "    a1Norm = a1/norm\n",
    "    a2Norm = a2/norm\n",
    "    a3Norm = a3/norm\n",
    "    Psi = a1Norm*np.cos(k1*x-k1**2*step*dt) + a2Norm*np.cos(k2*x-k2**2*step*dt) + a3Norm*np.cos(k3*x-k3**2*step*dt)\n",
    "    Psi = Psi**2\n",
    "    plt.plot(x,Psi)\n",
    "    plt.xlabel('x')\n",
    "    plt.ylabel('$|\\Psi|^2$')\n",
    "    plt.show()\n",
    "\n",
    "interactivePlot = interactive(graphPsi, \n",
    "                              step=widgets.IntSlider(min=0,max=2*np.pi/(25*1e-4),value=0), \n",
    "                              k1=widgets.FloatSlider(min=0.0,max=5.0,value=1.0,step=0.01), \n",
    "                              a1=widgets.FloatSlider(min=-1.0,max=1.0,value=0.1,step=0.01), \n",
    "                              k2=widgets.FloatSlider(min=0.0,max=5.0,value=2.0,step=0.01), \n",
    "                              a2=widgets.FloatSlider(min=-1.0,max=1.0,value=0.0,step=0.01), \n",
    "                              k3=widgets.FloatSlider(min=0.0,max=5.0,value=3.0,step=0.01), \n",
    "                              a3=widgets.FloatSlider(min=-1.0,max=1.0,value=0.0,step=0.01), \n",
    "                              dt=widgets.FloatLogSlider(value=1e-2,base=10,min=-8,max=0,step=0.25))\n",
    "\n",
    "play = widgets.Play(value=interactivePlot.children[0].value,min=interactivePlot.children[0].min,max=interactivePlot.children[0].max,step=interactivePlot.children[0].step,interval=500,description=\"Press to play animation\")\n",
    "widgets.jslink((play,'value'),(interactivePlot.children[0],'value'))\n",
    "display(play)\n",
    "interactivePlot\n"
   ]
  },
  {
   "cell_type": "markdown",
   "metadata": {},
   "source": [
    "You can animate the time-evolutio of $\\Psi(x,t)$ in two ways: You can drag the ``step`` slider forward, or just click on the play button $\\blacktriangleright$. Describe the wave's motion across the graph. (If the animation moves too slowly for you, increase ``dt``.)\n",
    "\n",
    "[Add your answer here.]\n",
    "\n",
    "Notice that the default shape only uses stationary state 1, since ``a2=a3=0``. These coefficients represent the **weighting** that each stationary state receives in the wave function. Add a little weightint to state 2 by increasing ``a2``. How is the wave's movement across the screen different than before? How is it similar? How can you explain the wave's behavior as being the sum off two independent waves?\n",
    "\n",
    "[Add your answer here.]\n",
    "\n",
    "Now add some weighting for state 2. Adjust the coefficients and k values until it results in a pattern that you find interesting. Tell me what's interesting about it.\n",
    "\n",
    "[Add your answer here.]\n",
    "\n"
   ]
  }
 ],
 "metadata": {
  "kernelspec": {
   "display_name": "Python 3",
   "language": "python",
   "name": "python3"
  },
  "language_info": {
   "codemirror_mode": {
    "name": "ipython",
    "version": 3
   },
   "file_extension": ".py",
   "mimetype": "text/x-python",
   "name": "python",
   "nbconvert_exporter": "python",
   "pygments_lexer": "ipython3",
   "version": "3.6.8"
  },
  "widgets": {
   "application/vnd.jupyter.widget-state+json": {
    "state": {
     "0c8ab5612f4b4703aa65d01e78239a1a": {
      "model_module": "@jupyter-widgets/controls",
      "model_module_version": "1.4.0",
      "model_name": "DescriptionStyleModel",
      "state": {
       "description_width": ""
      }
     },
     "0e3f30ebf7e54e35a418d9866088819a": {
      "model_module": "@jupyter-widgets/base",
      "model_module_version": "1.1.0",
      "model_name": "LayoutModel",
      "state": {}
     },
     "10731eeb3a324d5f8dbf7de7ebfa829b": {
      "model_module": "@jupyter-widgets/base",
      "model_module_version": "1.1.0",
      "model_name": "LayoutModel",
      "state": {}
     },
     "142892f4ad36403fb242ce3d57e931ba": {
      "model_module": "@jupyter-widgets/controls",
      "model_module_version": "1.4.0",
      "model_name": "PlayModel",
      "state": {
       "_playing": true,
       "description": "Press to play animation",
       "interval": 500,
       "layout": "IPY_MODEL_4a7f3494e48345108e52ee02aa339386",
       "max": 2513,
       "style": "IPY_MODEL_0c8ab5612f4b4703aa65d01e78239a1a",
       "value": 730
      }
     },
     "185b8364f0f64a97b4dec8f13dc2b8cf": {
      "model_module": "@jupyter-widgets/controls",
      "model_module_version": "1.4.0",
      "model_name": "FloatSliderModel",
      "state": {
       "description": "a2",
       "layout": "IPY_MODEL_76294b64188542bca928cdaa2e067773",
       "max": 1,
       "min": -1,
       "step": 0.01,
       "style": "IPY_MODEL_f2590faa349d49cc9719dae5074a2ddc",
       "value": 0.03
      }
     },
     "203afe89e2e24448bd014349608fb65d": {
      "model_module": "@jupyter-widgets/controls",
      "model_module_version": "1.4.0",
      "model_name": "LinkModel",
      "state": {
       "source": [
        "IPY_MODEL_142892f4ad36403fb242ce3d57e931ba",
        "value"
       ],
       "target": [
        "IPY_MODEL_a6d99d7733ff4579bc499711226ebae4",
        "value"
       ]
      }
     },
     "2295ac0f5ae042e980f5b08bf208f627": {
      "model_module": "@jupyter-widgets/controls",
      "model_module_version": "1.4.0",
      "model_name": "FloatSliderModel",
      "state": {
       "description": "k3",
       "layout": "IPY_MODEL_9885e8635e3a48fc8a9261d0ae0cecfd",
       "max": 5,
       "step": 0.01,
       "style": "IPY_MODEL_97f80f653e4b4effbb5a4176f4f6b3ac",
       "value": 3
      }
     },
     "248351caea5f46a28b774762451fe614": {
      "model_module": "@jupyter-widgets/controls",
      "model_module_version": "1.4.0",
      "model_name": "FloatSliderModel",
      "state": {
       "description": "k1",
       "layout": "IPY_MODEL_ef912060a1ed459d84c50520d48b0a50",
       "max": 5,
       "step": 0.01,
       "style": "IPY_MODEL_af78f28eeed744be9f894fb703ec3319",
       "value": 1
      }
     },
     "24bf7bc04ee74174a3375f30ab578ae4": {
      "model_module": "@jupyter-widgets/base",
      "model_module_version": "1.1.0",
      "model_name": "LayoutModel",
      "state": {}
     },
     "3f326f83fab54458b7eedc12fb568fe6": {
      "model_module": "@jupyter-widgets/controls",
      "model_module_version": "1.4.0",
      "model_name": "VBoxModel",
      "state": {
       "_dom_classes": [
        "widget-interact"
       ],
       "children": [
        "IPY_MODEL_a6d99d7733ff4579bc499711226ebae4",
        "IPY_MODEL_248351caea5f46a28b774762451fe614",
        "IPY_MODEL_63682df7c1dd4c428145cb6680856fa7",
        "IPY_MODEL_cdfacf0aa65d48e98b4d65056389989d",
        "IPY_MODEL_185b8364f0f64a97b4dec8f13dc2b8cf",
        "IPY_MODEL_2295ac0f5ae042e980f5b08bf208f627",
        "IPY_MODEL_8902c12bf0464de6b70f949ab6f88a68",
        "IPY_MODEL_7b61270410cc4de6a574e6fe7859e310",
        "IPY_MODEL_f8b6a72343fa4829998510369211a5cb"
       ],
       "layout": "IPY_MODEL_48835df9ad8948b9aca85b37011d137b"
      }
     },
     "48835df9ad8948b9aca85b37011d137b": {
      "model_module": "@jupyter-widgets/base",
      "model_module_version": "1.1.0",
      "model_name": "LayoutModel",
      "state": {}
     },
     "4a7f3494e48345108e52ee02aa339386": {
      "model_module": "@jupyter-widgets/base",
      "model_module_version": "1.1.0",
      "model_name": "LayoutModel",
      "state": {}
     },
     "63682df7c1dd4c428145cb6680856fa7": {
      "model_module": "@jupyter-widgets/controls",
      "model_module_version": "1.4.0",
      "model_name": "FloatSliderModel",
      "state": {
       "description": "a1",
       "layout": "IPY_MODEL_877e21dd0ae24697a7a4290fd1af2073",
       "max": 1,
       "min": -1,
       "step": 0.01,
       "style": "IPY_MODEL_bdc51fb49c054cdc8e38cc9cd9006bc1",
       "value": 0.1
      }
     },
     "76294b64188542bca928cdaa2e067773": {
      "model_module": "@jupyter-widgets/base",
      "model_module_version": "1.1.0",
      "model_name": "LayoutModel",
      "state": {}
     },
     "7b61270410cc4de6a574e6fe7859e310": {
      "model_module": "@jupyter-widgets/controls",
      "model_module_version": "1.4.0",
      "model_name": "FloatLogSliderModel",
      "state": {
       "description": "dt",
       "layout": "IPY_MODEL_10731eeb3a324d5f8dbf7de7ebfa829b",
       "max": 0,
       "min": -8,
       "step": 0.25,
       "style": "IPY_MODEL_be68f49184c443b89f6385c7bd057210",
       "value": 0.056234132519034905
      }
     },
     "877e21dd0ae24697a7a4290fd1af2073": {
      "model_module": "@jupyter-widgets/base",
      "model_module_version": "1.1.0",
      "model_name": "LayoutModel",
      "state": {}
     },
     "8902c12bf0464de6b70f949ab6f88a68": {
      "model_module": "@jupyter-widgets/controls",
      "model_module_version": "1.4.0",
      "model_name": "FloatSliderModel",
      "state": {
       "description": "a3",
       "layout": "IPY_MODEL_f59f0451c7fc4270a5ca508fda9d7e98",
       "max": 1,
       "min": -1,
       "step": 0.01,
       "style": "IPY_MODEL_b779aa8067334a8caf2a5716005ca903"
      }
     },
     "8eea1cbe45bd47de8780fc6648ad96b2": {
      "model_module": "@jupyter-widgets/controls",
      "model_module_version": "1.4.0",
      "model_name": "SliderStyleModel",
      "state": {
       "description_width": ""
      }
     },
     "97f80f653e4b4effbb5a4176f4f6b3ac": {
      "model_module": "@jupyter-widgets/controls",
      "model_module_version": "1.4.0",
      "model_name": "SliderStyleModel",
      "state": {
       "description_width": ""
      }
     },
     "9885e8635e3a48fc8a9261d0ae0cecfd": {
      "model_module": "@jupyter-widgets/base",
      "model_module_version": "1.1.0",
      "model_name": "LayoutModel",
      "state": {}
     },
     "a273538f5edd433d9f2d83f22a3ce902": {
      "model_module": "@jupyter-widgets/base",
      "model_module_version": "1.1.0",
      "model_name": "LayoutModel",
      "state": {}
     },
     "a6d99d7733ff4579bc499711226ebae4": {
      "model_module": "@jupyter-widgets/controls",
      "model_module_version": "1.4.0",
      "model_name": "IntSliderModel",
      "state": {
       "description": "step",
       "layout": "IPY_MODEL_a273538f5edd433d9f2d83f22a3ce902",
       "max": 2513,
       "style": "IPY_MODEL_cccf9903f2074d91adea7a4615bf74b7",
       "value": 730
      }
     },
     "af78f28eeed744be9f894fb703ec3319": {
      "model_module": "@jupyter-widgets/controls",
      "model_module_version": "1.4.0",
      "model_name": "SliderStyleModel",
      "state": {
       "description_width": ""
      }
     },
     "b779aa8067334a8caf2a5716005ca903": {
      "model_module": "@jupyter-widgets/controls",
      "model_module_version": "1.4.0",
      "model_name": "SliderStyleModel",
      "state": {
       "description_width": ""
      }
     },
     "bdc51fb49c054cdc8e38cc9cd9006bc1": {
      "model_module": "@jupyter-widgets/controls",
      "model_module_version": "1.4.0",
      "model_name": "SliderStyleModel",
      "state": {
       "description_width": ""
      }
     },
     "be68f49184c443b89f6385c7bd057210": {
      "model_module": "@jupyter-widgets/controls",
      "model_module_version": "1.4.0",
      "model_name": "SliderStyleModel",
      "state": {
       "description_width": ""
      }
     },
     "cccf9903f2074d91adea7a4615bf74b7": {
      "model_module": "@jupyter-widgets/controls",
      "model_module_version": "1.4.0",
      "model_name": "SliderStyleModel",
      "state": {
       "description_width": ""
      }
     },
     "cdfacf0aa65d48e98b4d65056389989d": {
      "model_module": "@jupyter-widgets/controls",
      "model_module_version": "1.4.0",
      "model_name": "FloatSliderModel",
      "state": {
       "description": "k2",
       "layout": "IPY_MODEL_24bf7bc04ee74174a3375f30ab578ae4",
       "max": 5,
       "step": 0.01,
       "style": "IPY_MODEL_8eea1cbe45bd47de8780fc6648ad96b2",
       "value": 2
      }
     },
     "ef912060a1ed459d84c50520d48b0a50": {
      "model_module": "@jupyter-widgets/base",
      "model_module_version": "1.1.0",
      "model_name": "LayoutModel",
      "state": {}
     },
     "f2590faa349d49cc9719dae5074a2ddc": {
      "model_module": "@jupyter-widgets/controls",
      "model_module_version": "1.4.0",
      "model_name": "SliderStyleModel",
      "state": {
       "description_width": ""
      }
     },
     "f59f0451c7fc4270a5ca508fda9d7e98": {
      "model_module": "@jupyter-widgets/base",
      "model_module_version": "1.1.0",
      "model_name": "LayoutModel",
      "state": {}
     },
     "f8b6a72343fa4829998510369211a5cb": {
      "model_module": "@jupyter-widgets/output",
      "model_module_version": "1.0.0",
      "model_name": "OutputModel",
      "state": {
       "layout": "IPY_MODEL_0e3f30ebf7e54e35a418d9866088819a",
       "outputs": [
        {
         "data": {
          "image/png": "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\n",
          "text/plain": "<Figure size 432x288 with 1 Axes>"
         },
         "metadata": {},
         "output_type": "display_data"
        }
       ]
      }
     }
    },
    "version_major": 2,
    "version_minor": 0
   }
  }
 },
 "nbformat": 4,
 "nbformat_minor": 2
}
