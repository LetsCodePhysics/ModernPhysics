{
 "cells": [
  {
   "attachments": {
    "RiemannSum.gif": {
     "image/gif": "[encoded data removed]"
    }
   },
   "cell_type": "markdown",
   "metadata": {},
   "source": [
    "## Return to Riemann Sums\n",
    "\n",
    "You might remember when you were first introduced to integrals that you learned about **Riemann sums**. A Riemann sum allows you to approximate a definite integral over a region by dividing the region into strips:\n",
    "\n",
    "![RiemannSum.gif](attachment:RiemannSum.gif)\n",
    "\n",
    "The strips have a width $\\Delta x$ (or ``dx`` in the code cell below). **The thinner you make the strips, the better the answer you get from the Riemann sum.**\n",
    "\n",
    "Although in calculus you probably spent a relatively short amount of time on Riemann sums on the road to learning about integrals, in computational physics, a Riemann sum is a primary way to calcualte an integral. It's especially useful when **you need to evaluate an intregral that you can't carry out by hand** (and this happens *a lot*).\n",
    "\n",
    "The code cell below sets up an interactive panel that you can use to explore numerical integration. Run this code cell once and then continue reading."
   ]
  },
  {
   "cell_type": "code",
   "execution_count": 1,
   "metadata": {},
   "outputs": [
    {
     "name": "stdout",
     "output_type": "stream",
     "text": [
      "We are ready to go.\n"
     ]
    }
   ],
   "source": [
    "from numpy import *\n",
    "import matplotlib.pyplot as plt\n",
    "import ipywidgets as widgets\n",
    "from ipywidgets import interactive\n",
    "\n",
    "def integrate(xrange,dx):\n",
    "    # Extract bounds.\n",
    "    xmin = xrange[0]\n",
    "    xmax = xrange[1]\n",
    "    \n",
    "    # Create arrays.\n",
    "    xArray = arange(xmin,xmax+dx,dx)\n",
    "    yArray = f(xArray)\n",
    "    \n",
    "    # Calculate integral with trapezoidal rule.\n",
    "    area = (sum(yArray)-0.5*(yArray[0]+yArray[-1]))*dx    \n",
    "\n",
    "    # Graph.\n",
    "    plt.plot(xArray,yArray)\n",
    "    plt.fill_between(xArray,yArray,alpha=0.4)\n",
    "    plt.text(min(xArray),min(yArray),\"Integral =\"+str(around(area,2)))\n",
    "    \n",
    "    \n",
    "    \n",
    "interactivePlot = interactive(integrate,xrange=widgets.FloatRangeSlider(value=[-1,1],min=-5,max=5),dx=widgets.FloatLogSlider(value=0.25,base=10,min=-6,max=1,step=0.2))\n",
    "\n",
    "print(\"We are ready to go.\")"
   ]
  },
  {
   "cell_type": "markdown",
   "metadata": {},
   "source": [
    "The next code cell defines the function ``f(x)`` that we'll be integrating. You can make this function anything you want, but let's start out with a simple $f(x) = x^2$. Run this code cell, and then use the sliders to adjust the Riemann sum width ``dx`` and the bounds ``xmin`` and ``xmax`` of the integral. Notice how the graph automatically adjusts."
   ]
  },
  {
   "cell_type": "code",
   "execution_count": 2,
   "metadata": {},
   "outputs": [
    {
     "data": {
      "application/vnd.jupyter.widget-view+json": {
       "model_id": "e2e8a53a2d4c44f2b9afc1c78ca44d04",
       "version_major": 2,
       "version_minor": 0
      },
      "text/plain": [
       "interactive(children=(FloatRangeSlider(value=(-1.0, 1.0), description='xrange', max=5.0, min=-5.0), FloatLogSl…"
      ]
     },
     "metadata": {},
     "output_type": "display_data"
    }
   ],
   "source": [
    "def f(x):\n",
    "    y = x**2\n",
    "    return y\n",
    "\n",
    "interactivePlot"
   ]
  },
  {
   "cell_type": "markdown",
   "metadata": {},
   "source": [
    "* For a value of ``dx`` equal to 0.250 and a range of -1 to 1, how would you describe the graph? Is it smooth or jagged? What does this visual representation tell you about the Riemann sum width ``dx``?\n",
    "\n",
    "[Add your answer here.]\n",
    "\n",
    "* Carry out the definite integral $\\int_{-1}^{1} x^2 dx$. How does the exact answer compare to the integral value shown on the graph?\n",
    "\n",
    "[Add your answer here.]\n",
    "\n",
    "* How low do you need to make ``dx`` in order to get an acceptable match between the code's answer and the correct answer? What does this tell you about ``dx`` and accuracy?\n",
    "\n",
    "[Add your answer here.]\n",
    "\n",
    "* Now change the function in the code cell above. Make it a function that interests you, perhaps a function you can't integrate by hnd, or perhaps a function from an [integration table](https://www.google.com/search?q=integration+table&sxsrf=ALeKk032lfgi41K9BRtf9qQ0tLqFRtLUyg:1596805677434&source=lnms&tbm=isch&sa=X&ved=2ahUKEwjM17bZlInrAhXmQ98KHb9jA04Q_AUoAXoECA0QAw&biw=1366&bih=583). Adjust the integration range and ``dx`` value to explore how this integral behaves. Tell me something interesting about the results. If you chose a function that you can't integrate by hand, how could you tell what size of ``dx`` to use?\n",
    "\n",
    "[Add your answer here.]\n"
   ]
  }
 ],
 "metadata": {
  "kernelspec": {
   "display_name": "Python 3",
   "language": "python",
   "name": "python3"
  },
  "language_info": {
   "codemirror_mode": {
    "name": "ipython",
    "version": 3
   },
   "file_extension": ".py",
   "mimetype": "text/x-python",
   "name": "python",
   "nbconvert_exporter": "python",
   "pygments_lexer": "ipython3",
   "version": "3.6.8"
  },
  "widgets": {
   "application/vnd.jupyter.widget-state+json": {
    "state": {
     "0c358c131f284ac9b780f3e86a431a76": {
      "model_module": "@jupyter-widgets/base",
      "model_module_version": "1.1.0",
      "model_name": "LayoutModel",
      "state": {}
     },
     "303a95d929eb4fe385f01806d289a5fe": {
      "model_module": "@jupyter-widgets/base",
      "model_module_version": "1.1.0",
      "model_name": "LayoutModel",
      "state": {}
     },
     "41b6a195dd174df6bee5f6e4e57e6888": {
      "model_module": "@jupyter-widgets/base",
      "model_module_version": "1.1.0",
      "model_name": "LayoutModel",
      "state": {}
     },
     "4ac48063817c4d6792bb1bd18a700501": {
      "model_module": "@jupyter-widgets/controls",
      "model_module_version": "1.4.0",
      "model_name": "SliderStyleModel",
      "state": {
       "description_width": ""
      }
     },
     "7e3efc42b1d240c889bcb0214b2cab38": {
      "model_module": "@jupyter-widgets/base",
      "model_module_version": "1.1.0",
      "model_name": "LayoutModel",
      "state": {}
     },
     "82193345f70c455583c50c742456bc24": {
      "model_module": "@jupyter-widgets/output",
      "model_module_version": "1.0.0",
      "model_name": "OutputModel",
      "state": {
       "layout": "IPY_MODEL_7e3efc42b1d240c889bcb0214b2cab38",
       "outputs": [
        {
         "data": {
          "image/png": "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\n",
          "text/plain": "<Figure size 432x288 with 1 Axes>"
         },
         "metadata": {},
         "output_type": "display_data"
        }
       ]
      }
     },
     "a38dd674a1aa4dae9faa9822707bd965": {
      "model_module": "@jupyter-widgets/controls",
      "model_module_version": "1.4.0",
      "model_name": "FloatRangeSliderModel",
      "state": {
       "_model_name": "FloatRangeSliderModel",
       "_view_name": "FloatRangeSliderView",
       "description": "xrange",
       "layout": "IPY_MODEL_41b6a195dd174df6bee5f6e4e57e6888",
       "max": 5,
       "min": -5,
       "step": 0.1,
       "style": "IPY_MODEL_4ac48063817c4d6792bb1bd18a700501",
       "value": [
        -1,
        1
       ]
      }
     },
     "dadc22473de24e08964f214153df8b12": {
      "model_module": "@jupyter-widgets/controls",
      "model_module_version": "1.4.0",
      "model_name": "FloatLogSliderModel",
      "state": {
       "description": "dx",
       "layout": "IPY_MODEL_0c358c131f284ac9b780f3e86a431a76",
       "max": 1,
       "min": -6,
       "step": 0.2,
       "style": "IPY_MODEL_e64dcfac45e349fb8ec80f61d9b50ecf",
       "value": 0.25
      }
     },
     "e2e8a53a2d4c44f2b9afc1c78ca44d04": {
      "model_module": "@jupyter-widgets/controls",
      "model_module_version": "1.4.0",
      "model_name": "VBoxModel",
      "state": {
       "_dom_classes": [
        "widget-interact"
       ],
       "children": [
        "IPY_MODEL_a38dd674a1aa4dae9faa9822707bd965",
        "IPY_MODEL_dadc22473de24e08964f214153df8b12",
        "IPY_MODEL_82193345f70c455583c50c742456bc24"
       ],
       "layout": "IPY_MODEL_303a95d929eb4fe385f01806d289a5fe"
      }
     },
     "e64dcfac45e349fb8ec80f61d9b50ecf": {
      "model_module": "@jupyter-widgets/controls",
      "model_module_version": "1.4.0",
      "model_name": "SliderStyleModel",
      "state": {
       "description_width": ""
      }
     }
    },
    "version_major": 2,
    "version_minor": 0
   }
  }
 },
 "nbformat": 4,
 "nbformat_minor": 2
}
