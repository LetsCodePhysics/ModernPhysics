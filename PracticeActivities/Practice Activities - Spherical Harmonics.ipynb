{
 "cells": [
  {
   "cell_type": "markdown",
   "metadata": {},
   "source": [
    "## 3-D Sines and Cosines\n",
    "\n",
    "This program, based on [this exmaple](https://scipython.com/book/chapter-8-scipy/examples/visualizing-the-spherical-harmonics/), uses the SciPy library to generate a visualization of the **spherical harmonics** $Y_{l}^{m}(\\theta,\\phi)$. Spherical harmonics are three-dimensional versions of the sine and cosine function. Sine and cosine are, at their core, defined by a differential equation\n",
    "\n",
    "$$\n",
    "\\frac{d^2 f}{d\\theta^2} = -f\n",
    "$$\n",
    "\n",
    "and a periodic boundary condition\n",
    "$$\n",
    "f(\\theta + 2\\pi) = f(\\theta).\n",
    "$$\n",
    "\n",
    "The $Y_{l}^{m}$s satisfy a more complicated differential equation\n",
    "\n",
    "$$\n",
    "\\left[ \\frac{1}{\\sin \\theta } \\frac{\\partial}{\\partial \\theta} \\left( \\sin \\theta \\frac{\\partial Y_{l}^{m}}{\\partial \\theta} \\right) + \\frac{1}{\\sin^2 \\theta } \\frac{\\partial^2 Y_{l}^{m}}{\\partial \\phi^2} \\right] = -l(l+1) Y_{l}^{m}\n",
    "$$\n",
    "\n",
    "and peridoic boundary conditions\n",
    "$$ \\begin{eqnarray}\n",
    "Y_{l}^{m}(\\theta + \\pi,\\phi) & = & Y_{l}^{m}(\\theta,\\phi) \\\\\n",
    "Y_{l}^{m}(\\theta,\\phi + 2\\pi) & = & Y_{l}^{m}(\\theta,\\phi).\n",
    "\\end{eqnarray}\n",
    "$$\n",
    "\n",
    "Although the math is more complicated, the basic result is the same: sine and $Y_{l}^{m}$ are both functions that oscillate, but while sine oscillates over a one-dimenionsal region, $Y_{l}^{m}$ oscillates over the surface of a sphere.\n",
    "\n",
    "In Quantum Mechanics, you'll learn about the analytical solution for $Y_{l}^{m}$. In Modern Physics, we'll study them using a built-in package ``scipy.special``.\n",
    "\n",
    "Run the code cell below, which produces an interactive visualization of $Y_{l}^{m}$. The visualization uses color to represent the value of $\\left|Y_{l}^{m}(\\theta,\\phi)\\right|$ (where red indicates a higher value and blue a lower value), whereas most plots represent it dumbell-style (where the distance from the origin indicates the value)."
   ]
  },
  {
   "cell_type": "code",
   "execution_count": 1,
   "metadata": {},
   "outputs": [
    {
     "data": {
      "application/vnd.jupyter.widget-view+json": {
       "model_id": "fa79e20b1b3e42449867b553c1959494",
       "version_major": 2,
       "version_minor": 0
      },
      "text/plain": [
       "interactive(children=(IntSlider(value=1, description='l', max=5), IntSlider(value=0, description='m', max=1), …"
      ]
     },
     "metadata": {},
     "output_type": "display_data"
    }
   ],
   "source": [
    "# Import lots of libraries.\n",
    "import matplotlib.pyplot as plt\n",
    "from matplotlib import cm, colors\n",
    "from mpl_toolkits.mplot3d import Axes3D\n",
    "import numpy as np\n",
    "from scipy.special import sph_harm\n",
    "import ipywidgets as widgets\n",
    "from ipywidgets import interactive\n",
    "%matplotlib inline\n",
    "\n",
    "# Set up grid of spherical coordinates.\n",
    "phi = np.linspace(0, np.pi, 50)\n",
    "theta = np.linspace(0, 2*np.pi, 50)\n",
    "phi, theta = np.meshgrid(phi, theta)\n",
    "\n",
    "# Convert spherical coordinates to Cartesian coordinates.\n",
    "x = np.sin(phi) * np.cos(theta)\n",
    "y = np.sin(phi) * np.sin(theta)\n",
    "z = np.cos(phi)\n",
    "\n",
    "def graphSH(l,m):\n",
    "    # Set the angular momentum quantum numbers.\n",
    "    # l, m = 5, -4 # |m| <= l\n",
    "    # Calculate the spherical harmonic Y(l,m) and normalize to [0,1].\n",
    "    fcolors = abs(sph_harm(m, l, theta, phi)) # Call function for Y(l,m).\n",
    "    # fcolors = sph_harm(m, l, theta, phi).imag # Call function for Y(l,m).\n",
    "    fmax, fmin = fcolors.max(), fcolors.min() # Get max & min values.\n",
    "    fcolors = (fcolors - fmin)/(fmax - fmin)  # Normalize.\n",
    "\n",
    "    # Set the aspect ratio to 1 so our sphere looks spherical.\n",
    "    fig = plt.figure(figsize=plt.figaspect(1.))\n",
    "    ax = fig.add_subplot(111, projection='3d')\n",
    "    ax.plot_surface(x, y, z,  rstride=1, cstride=1, facecolors=cm.seismic(fcolors))\n",
    "    # Turn off the axis planes\n",
    "    ax.set_axis_off()\n",
    "    plt.show()\n",
    "    \n",
    "interactivePlot = interactive(graphSH,l=widgets.IntSlider(value=1,min=0,max=5),m=widgets.IntSlider(value=0,min=0,max=1))\n",
    "\n",
    "widgets.link((interactivePlot.children[1], 'max'), (interactivePlot.children[0], 'value'))\n",
    "interactivePlot"
   ]
  },
  {
   "cell_type": "markdown",
   "metadata": {},
   "source": [
    "The quantum number ``l`` controls the **angular momentum magnitude** of the state. Keeping ``m`` at 0, how does the shape of $Y_{l}^{m}$ change if you increase ``l``?\n",
    "\n",
    "[Add your answer here.]\n",
    "\n",
    "The quantum number ``m`` controls the **z-component of the angular momentum** of the state. Keeping ``l`` at 3, how does the shape of $Y_{l}^{m}$ change if you increase ``m``?\n",
    "\n",
    "[Add your answer here.]\n",
    "\n",
    "``m`` has a maximum value of ``l``. Describe the general shape of $Y_{l}^{m}$ if you try different values of ``l`` and increase ``m`` to its maximum value each time you increase ``l``.\n",
    "\n",
    "[Add your answer here.]\n",
    "\n",
    "The spherical harmonics are important to us because $Y_{l}^{m}$ is part of the wave function for the hydrogen atom, along with a factor that depends on the distance from the nucleus $r$. How does the shape of $Y_{l}^{m}$ match what you've seen about atomic orbitals in a chemistry class? What does $Y_{l}^{m}$ tell you about the electron in a hydrogen atom?\n",
    "\n",
    "[Add your answer here.]"
   ]
  }
 ],
 "metadata": {
  "kernelspec": {
   "display_name": "Python 3",
   "language": "python",
   "name": "python3"
  },
  "language_info": {
   "codemirror_mode": {
    "name": "ipython",
    "version": 3
   },
   "file_extension": ".py",
   "mimetype": "text/x-python",
   "name": "python",
   "nbconvert_exporter": "python",
   "pygments_lexer": "ipython3",
   "version": "3.6.8"
  }
 },
 "nbformat": 4,
 "nbformat_minor": 2
}
