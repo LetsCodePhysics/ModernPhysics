{
 "cells": [
  {
   "cell_type": "markdown",
   "metadata": {},
   "source": [
    "# Assignment 12 - Radioactivity\n",
    "\n",
    "based on https://www.compadre.org/picup/exercises/Exercise.cfm?A=radioactivity&S=6 by Deva O'Neil\n",
    "\n",
    "This Assignment should take you approximately 90 minutes to complete.\n",
    "\n",
    "After completing this assignment, you will be able to...\n",
    "* Describe the standard mathematical model of radioactive decay.\n",
    "* Implement a mathematical expression in python.\n",
    "* Interpret results from a simulation that incorporates random numbers.\n",
    "* Examine a code that uses if statements.\n",
    "* Compare theoretical and computational predictions.\n",
    "* Examine the radioactive decay of a real-world material.\n",
    "\n",
    "Dr. Lane welcomes your questions about this assignment. Please send or bring a copy of your work-in-progress with your questions."
   ]
  },
  {
   "cell_type": "markdown",
   "metadata": {},
   "source": [
    "## Theory\n",
    "\n",
    "A radioactive sample emits high-energy particles as each atom in the sample decays to a more stable element. Each atom in the original element decays independently of the others; they don't conspire about who is going to decay when. The more atoms of the original element there are, the more decays $dN$ take place in each time interval $dt$. This gives us a simple differential equation\n",
    "\n",
    "$$\n",
    "\\frac{dN}{dt} = -\\lambda N,\n",
    "$$\n",
    "where $\\lambda$ is a decay constant that has units of seconds$^{-1}$. This means that $N(t)$ is a function whose first derivative is the negative of itself. There's only one function in the universe that meets this description: $e^{-t}$, with a $\\lambda$ added where appropriate. If we start with $N_0$ atoms of the original element at $t = 0$, the number of atoms in the original species (i.e., the number of undecayed atoms) is $N(t) = N_{0} e^{-\\lambda t}$.\n",
    "\n",
    "This is the theoertical prediction for nuclear decay. In this Assignment, you'll test how well this matches decay based on a computational model using random numbers."
   ]
  },
  {
   "cell_type": "markdown",
   "metadata": {},
   "source": [
    "## Step 1\n",
    "##### DISCUSSION MATH\n",
    "Show that the theoretical prediction for $N(t)$ satisfies the differential equation above. Document your math using $\\LaTeX$.\n",
    "\n",
    "[Add your answer here.]"
   ]
  },
  {
   "cell_type": "markdown",
   "metadata": {},
   "source": [
    "## Step 2\n",
    "##### CODE \n",
    "The code cell below simulates radioactive decay in two ways: It graphs the theoretical expression for $N(t)$, and it takes a sample of ``N0`` particles and randomly determines when each of them decays. The theoretical expression is missing; replace the ``??`` with the appropriate prediction.\n",
    "\n",
    "Don’t forget that Python uses ``exp()`` to represent ``e^()`` as a pre-defined function. Also notice that we have to call $\\lambda$ ``lam`` since ``lambda`` is a built-in function in python."
   ]
  },
  {
   "cell_type": "code",
   "execution_count": 5,
   "metadata": {},
   "outputs": [
    {
     "data": {
      "image/png": "[encoded data removed]",
      "text/plain": [
       "<Figure size 432x288 with 1 Axes>"
      ]
     },
     "metadata": {
      "needs_background": "light"
     },
     "output_type": "display_data"
    }
   ],
   "source": [
    "from pylab import *\n",
    "%matplotlib inline\n",
    "\n",
    "#This Monte Carlo simulation represents the decay of a radioactive substance\n",
    "N0 = 100 # number of undecayed atoms\n",
    "lam = 0.2 # 1/seconds\n",
    "Tmax = 12 #seconds\n",
    "dt = .02 # time step\n",
    "N = N0 # number remaining\n",
    "t = 0 # time\n",
    "n = 0 # counts over each nucleus remaining\n",
    "\n",
    "time_array = []\n",
    "Ndata_array = []\n",
    "Ntheory_array = []\n",
    "\n",
    "while (t < Tmax):\n",
    "    Ndata_array.append(N)\n",
    "    Ntheory_array.append( ?? ) # Replace the ?? with the theoertical formula for N as a function of t.\n",
    "    time_array.append(t)\n",
    "    while ( n<N ):\n",
    "        getRand = random()\n",
    "        if(getRand< dt*lam): # Does particle n decay?\n",
    "            N = N - 1  # decay reduces number of remaining nuclei\n",
    "        n = n+1\n",
    "    n = 0 #resets    \n",
    "    t = t + dt\n",
    "    \n",
    "plot(time_array, Ntheory_array, linewidth=2)\n",
    "plot(time_array, Ndata_array, linewidth=2)\n",
    "xlabel('t')\n",
    "ylabel('N')\n",
    "grid(True)\n",
    "show()"
   ]
  },
  {
   "cell_type": "markdown",
   "metadata": {},
   "source": [
    "## Step 3\n",
    "##### CODE DISCUSSION \n",
    "Run the code above. Answer the questions below.\n",
    "\n",
    "* How does the ``if(getRand< dt*lam):`` govern whether particle ``n`` decays? (Hint: Look up what the ``random()`` function from numpy does.)\n",
    "\n",
    "[Add your answer here.]\n",
    "\n",
    "* If ``lam`` is large, how likely is it that the random number is less than ``dt*lam``?  \n",
    "\n",
    "[Add your answer here.]\n",
    "\n",
    "* Does this make it more or less likely that the “if” statement will execute?\n",
    "\n",
    "[Add your answer here.]\n",
    "\n",
    "* What is the physical interpretation of the decay constant ``lam``? Test your prediction by adjusting the value and re-running the code.\n",
    "\n",
    "[Add your answer here.]\n",
    "\n",
    "* Explain why the comparison in the if statement is “less than” and not “greater than.” \n",
    "\n",
    "[Add your answer here.]\n",
    "\n",
    "* Explain why the condition in the if statement needs to depend on ``dt``. Test your prediction by adjusting the value of \n",
    "``dt`` and re-running the code.\n",
    "\n",
    "[Add your answer here.]\n",
    "\n",
    "* Examine the graphs made by your code. How can you tell which is the theoretical and which is the simulation? What do you observe? How well do they match? What values could you adjust in the code to help them match better? (Try it out!)\n",
    "\n",
    "[Add your answer here.]\n"
   ]
  },
  {
   "cell_type": "markdown",
   "metadata": {},
   "source": [
    "## Step 4\n",
    "##### CODE DISCUSSION \n",
    "Find the $\\lambda$ value for a real-world radioactive material. (You'll probably need to look up its half-life $t_{1/2}$, and then compute $\\lambda$ from this value.) Use this value in the code above, along with a reasonable number of undecayed atoms (Start with a reasonable mass and use the material's atomic mass and Avogadro's Number.). How long does it take for ~90% of the atoms to decay? (You'll likely need to increse ``Tmax``, possibly a lot. If you do, feel free to increase dt as needed, or change units from seconds into something longer.)\n",
    "\n",
    "[Add your answers here.]"
   ]
  }
 ],
 "metadata": {
  "kernelspec": {
   "display_name": "Python 3",
   "language": "python",
   "name": "python3"
  },
  "language_info": {
   "codemirror_mode": {
    "name": "ipython",
    "version": 3
   },
   "file_extension": ".py",
   "mimetype": "text/x-python",
   "name": "python",
   "nbconvert_exporter": "python",
   "pygments_lexer": "ipython3",
   "version": "3.6.8"
  }
 },
 "nbformat": 4,
 "nbformat_minor": 2
}
