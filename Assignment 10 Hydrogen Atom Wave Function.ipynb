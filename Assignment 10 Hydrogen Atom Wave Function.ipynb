{
 "cells": [
  {
   "cell_type": "markdown",
   "metadata": {},
   "source": [
    "# Assignment 10 Hydrogen Atom Wave Function\n",
    "\n",
    "based on https://www.compadre.org/PICUP/exercises/exercise.cfm?I=115&A=shooting by Andy Rundquist\n",
    "\n",
    "This Assignment should take you approximately 90 minutes to complete. It's most helpful if you've successfully completed Assignments 6 and 7 prior to beginning this Assignment.\n",
    "\n",
    "After completing this Assignment, you will be able to...\n",
    "* Describe unique properties of the hydrogen atom problem.\n",
    "* Apply the Shooting Method to the hydrogen atom potential energy to determine eigenenergies and eigenfunctions.\n",
    "* Calculate expectation values of the hydrogen atom using numerical integration.\n",
    "* Calculate uncertainty based on expectation values.\n",
    "* Evaluate patterns in expectation values and uncertainty based on changes in quantum numbers.\n",
    "\n",
    "Dr. Lane welcomes your questions about this assignment. Please send or bring a copy of your work-in-progress with your questions."
   ]
  },
  {
   "attachments": {
    "E-hi.png": {
     "image/png": "[encoded data removed]"
    },
    "E-lo.png": {
     "image/png": "[encoded data removed]"
    }
   },
   "cell_type": "markdown",
   "metadata": {},
   "source": [
    "## Recap\n",
    "\n",
    "### The Wave Function $\\psi$\n",
    "\n",
    "We learned in Assignment 6 that all of quantum mechanics is govered by the **Schrodinger equation**, which relates the **wave funciton** $\\psi(x)$ of an electron to the **potential energy** $V(x)$ that the electron experiences:\n",
    "\n",
    "$$\n",
    "-\\frac{\\hbar^2}{2m} \\psi'' + V \\psi = E \\psi,\n",
    "$$\n",
    "\n",
    "where $\\hbar$ is Planck's constant, $m$ is the electron's mass, and $E$ is the electron's total energy (kinetic plus potential). This is a **differential equation**, meaning the answer is a function $\\psi(x)$. This wave function has a few special properties:\n",
    "* Squaring $\\psi$ tells you the probability density of where you can find the electron. Wherever $\\psi = 0$, the electron cannot be; wherever $\\psi$ is larger, the electron is more likely to be.\n",
    "* $\\psi$ has to be finite everywhere.\n",
    "* $\\psi$ has to a continuous single-valued function.\n",
    "* $\\psi$ has to drop to 0 as $x$ appropaches $\\pm \\infty$.\n",
    "* Only special functions can qualify to be a wave function. The mathematical term for \"special function\" is **eigenfunction**. Each eigenfunction is associated with a special energy value, or **eigenenergy**. Each potential energy $V(x)$ that you study has a set of eigenfunctions and eigenenergies. For most problems, we have no way of knowing ahead of time what those eigenfunctions and eigenenergies will look like.\n",
    "\n",
    "Differential equations are notoriously complicated to solve. Our textbook will walk you through the solution of a handful, but for most potential energy functions, we **can't** develop a solution.\n",
    "\n",
    "But if we use computational methods, we can graph a numerical solution for **any** potential energy function. You'll learn how to carry out such a method in this Assignment.\n",
    "\n",
    "### The Shooting Method for getting $E$ and $\\psi$\n",
    "\n",
    "We learned in Assignment 6 that a basic way of solving the Schrodinger equation is [the shooting method](https://en.wikipedia.org/wiki/Shooting_method). In this method, we guess a value for $E$ and start at the left side of our graph, with values for $x$, $\\psi$, and $\\psi'$. The energy is the piece we're most interested in; the actual values of $\\psi$ and $\\psi'$ aren't as important as the general shape of $\\psi$ vs. $x$. \n",
    "\n",
    "The initial guess for $E$ doesn't need to be very accurate; in most cases, we can't expect it to be accurate at all. But we'll refine this guess and run the code many times until we hone in on the correct value.\n",
    "\n",
    "With our guess for $E$, we use the Euler-Cromer algorithm (much like we did in Assignment 2) to \"launch\" the wave function from the starting point (hence the name \"shooting method\"):\n",
    "\n",
    "$$\n",
    "\\begin{eqnarray}\n",
    "\\psi'(x+dx) &=& \\psi'(x) + \\psi''(x)*dx \\\\\n",
    "\\psi(x+dx) &=& \\psi(x) + \\psi'(x+dx)*dx\n",
    "\\end{eqnarray}\n",
    "$$\n",
    "\n",
    "Just like in Euler-Cromer, we start with initial values of $\\psi$ and $\\psi'$ and repeat this procedure until we reach a desired endpoint. This process is essentially the same as using a Reimann sum, and the Shooting Method is a way of integrating the Schrodinger equation. Here's an animation of this process:\n",
    "\n",
    "![infinite well](images/infiniteflat.gif)\n",
    "\n",
    "The main differences between the Shooting Method and the Euler-Cromer algorithm are that...\n",
    "* We're using $x$ instead of $t$ as an independent variable.\n",
    "* We don't really care about the actual numerical values of $\\psi$, just its shape.\n",
    "* We're looking for $\\psi$ to end with a certain shape.\n",
    "\n",
    "Remember, $\\psi$ has to be finite everywhere, single-valued, and continuous, and must go to 0 as $x \\rightarrow \\pm \\infty$. The first three qualities (finite everywhere, single-valued, and continuous) are pretty easy to meet; the Shooting Method can't really give us a $\\psi$ that breaks any of these. The trouble comes in with $\\psi$ going to 0 at infinity. Unless we've stumbled upon the correct eigenenergy, this is impossible to obtain.\n",
    "\n",
    "**However**, the Shooting Method gives us a way to tell where the correct eigenergy is. Here's the result of the Shooting Method for a particular potential energy (it doesn't really matter which) with an eigenenergy guess of 1.00:\n",
    "![E-hi.png](attachment:E-hi.png)\n",
    "\n",
    "$\\psi$ is heading down toward $-\\infty$, so we know we have the wrong eigenenergy.\n",
    "\n",
    "Now here's the result of the Shooting Method for hte same potential energy with an eigenenergy ugess of 0.95:\n",
    "![E-lo.png](attachment:E-lo.png)\n",
    "\n",
    "$\\psi$ is now heading up toward $+\\infty$. Although both 1.00 and 0.95 are not the correct eigenenergy, because their tails flip in different directions, **we do know that the correct eigenenergy has to be between 0.95 and 1.00!** When using the Shooting Method, you keep adjusting your guess for the eigenenergy until the tail of $\\psi$ approaches the value that you want. For example, we would next try 0.975, and then keep splitting the difference.\n",
    "\n",
    "Notice that we would need infinite accuracy to reach a $\\psi$ that stayed nailed down at 0 perfectly. But we don't need that much accuracy. In this Assignment, you'll only need to determine eigenenergies out to 4 significant digits.\n",
    "\n",
    "The only thing to be careful about is to look at energies that are above the minimum of the well (energies less than that will alway run away to infinity)."
   ]
  },
  {
   "cell_type": "markdown",
   "metadata": {},
   "source": [
    "## Step 1: The Hydrogen Atom\n",
    "\n",
    "The hydrogen atom is perhaps the most important problem in quantum mechanics. Solving this problem gives chemists the periodic table. To model a hydrogen atom, we want to get $\\psi$ for an electron going around a proton. The potential energy is the Coulomb potential energy from introductory physics:\n",
    "\n",
    "$$\n",
    "V(r) = -k \\frac{e^2}{r}.\n",
    "$$\n",
    "\n",
    "We don't need to model the proton just to understand the atom; the electron is doing everything important. This potential energy is a little bit different than the ones from Assignments 6 & 7:\n",
    "* The position variable $r$, which represents the distance between the proton and the electron, only ranges from $0$ to $\\infty$ instead of $-\\infty$ to $\\infty$.\n",
    "* We also need to consider motion along two angles, $\\theta$ and $\\phi$, rotating around the proton. \n",
    "* Your textook (Chapter 7 of Thornton & Rex) walks you through how we separate the wave function $\\psi(r,\\theta,\\phi)$ into three separate functions $\\psi(r,\\theta,\\phi) = R(r) f(\\theta) g(\\phi)$ and solve for each piece. This code will solve for the most important part $R(r)$.\n",
    "* The second derivative $\\psi''$ has to be replaced by a three-dimensional second derivative. When we apply this derivative  and the three-piece function for $\\psi$ the Schrodinger equation for $R$ becomes (deep breath):\n",
    "$$\n",
    "\\frac{ d^2 R }{dr^2} + \\frac{2}{r}\\frac{dR}{dr} + \\frac{2m}{\\hbar^2}\\left( E+k\\frac{e^2}{r}-\\frac{\\hbar^2}{2m}\\frac{l(l+1)}{r^2}\\right) R = 0\n",
    "$$\n",
    "\n",
    "If ever there was a differential equation that we need a computer to study, this is it.\n",
    "\n",
    "The $l$ here is the **angular momentum quantum number**. This number has to meet the requirement $0\\leq l \\leq n-1$, where $n$ is the energy level ($1, 2, 3, \\ldots$) as usual. It turns out that $l$ doesn't affect the eigenenergy $E_n$, but it does affect the wave function $R_{nl}$.\n",
    "\n",
    "What are the primary differences bewteen the Schrodinger equation for $\\psi$ and the Schrodinger equation for $R$?\n",
    "\n",
    "[Add your answers here.]"
   ]
  },
  {
   "cell_type": "markdown",
   "metadata": {},
   "source": [
    "## Step 2: Getting $R_{n0}$ and $E_n$\n",
    "\n",
    "Let's start with $l = 0$ and try to find the lowest eigenenergy $E_1$. Using the two code cells below, what's the lowest eigenenergy $E_n$ you can use that produces an $R$ that doesn't diverge as $r \\rightarrow \\infty$? (**Hint**: All of the bound state eigenergies are less than 0.)\n",
    "\n",
    "After that, move the eigenenergy up toward 0. Find 5 eigenergies and list them below.\n",
    "\n",
    "[Add your answer here.]\n",
    "\n",
    "What patterns do you notice about the wave function $R_n(r)$ as the energy level $n$ increases? How do their shapes become more complicated as $n$ increases?\n",
    "\n",
    "[Add your answer here.]"
   ]
  },
  {
   "cell_type": "code",
   "execution_count": 21,
   "metadata": {},
   "outputs": [],
   "source": [
    "from pylab import *\n",
    "\n",
    "#UNITS: All lengths are in nm, all energies/masses are in eV.\n",
    "hbar = 197 # hbar*c = 197 eV*nm\n",
    "me = 511000 # me*c^2 = 511000 eV\n",
    "ke2 = 1.44 # k*e^2 = 1.44 eV*nm\n",
    "Z = 1 # number of protons in the nucleus; increase this to change the element\n",
    "\n",
    "def RDoublePrime(r,R,Rprime):\n",
    "    return -2*Rprime/r - 2*me/hbar**2*(E+Z*ke2/r)*R + l*(l+1)/r**2*R"
   ]
  },
  {
   "cell_type": "code",
   "execution_count": 20,
   "metadata": {},
   "outputs": [
    {
     "data": {
      "image/png": "[encoded data removed]",
      "text/plain": [
       "<Figure size 432x288 with 1 Axes>"
      ]
     },
     "metadata": {
      "needs_background": "light"
     },
     "output_type": "display_data"
    }
   ],
   "source": [
    "# Enter your guess for the energy here. Units are eV.\n",
    "E = ??\n",
    "l = 0 # Angular momentum number. Start at 0.\n",
    "\n",
    "# Enter minimum and maximum x and initial values for psi and psiPrime.\n",
    "rmin = 1e-2\n",
    "rmax = 10e-1\n",
    "R = 1\n",
    "Rprime = 0\n",
    "nPoints = 200\n",
    "\n",
    "dx = (rmax-rmin)/nPoints\n",
    "\n",
    "rArray = linspace(rmin,rmax,nPoints)\n",
    "Rarray = zeros(nPoints)\n",
    "\n",
    "for i in range(len(rArray)):\n",
    "    Rarray[i] = R # Record previous value of R.\n",
    "    Rprime += RDoublePrime(rArray[i],R,Rprime)*dx # Step forward with Rprime.\n",
    "    R += Rprime*dx # Step forward with R.\n",
    "\n",
    "# Create plot\n",
    "figure(1)\n",
    "plot(rArray, Rarray, linewidth=2)\n",
    "xlabel('r (nm)')\n",
    "ylabel('R (nm^-1)')\n",
    "grid(True)\n",
    "show()"
   ]
  },
  {
   "cell_type": "markdown",
   "metadata": {},
   "source": [
    "## Step 3: Getting $R_nl$ for different $l$\n",
    "\n",
    "Now that you have the eigenenergies, you can obtain the $R_{nl}$s for all the legal values of $l$. (For $n=1$, you can have $l=0$; for $n=2$, you can have $l=0$ and $l=1$; for $n=3$, you can have $l=0$, $l=1$, and $l=2$, etc.) They all have the same energy value; you just change the angular momentum quantum number $l$. Use the code above to compute $R_{nl}$. What do you notice happens to $R_{nl}$ as you increase $l$? How do the graph's features change?\n",
    "\n",
    "[Add your answer here.]"
   ]
  },
  {
   "cell_type": "markdown",
   "metadata": {},
   "source": [
    "## More Recap\n",
    "### Expectation Values\n",
    "\n",
    "In Assignment 7, we learned that it's helpful to calculate **expectation values** of physically measurable quantities. An expectation value represents the average value you would *expect* to see after measuring that quantity many times.\n",
    "\n",
    "Suppose, for example, we have an electron with a wave function $\\psi$ (which we get from the Shooting Method in Assignment 6) and we want to measure its position $x$ many times. The expectation value of $x$, deonted $\\langle x \\rangle$, is calculated with an integral:\n",
    "\n",
    "$$ \\langle x \\rangle = \\int_{-\\infty}^{+\\infty} \\psi x \\psi dx $$.\n",
    "\n",
    "Similarly, if you wanted the expectation value of $x^2$, you would integrate\n",
    "\n",
    "$$ \\langle x^2 \\rangle = \\int_{-\\infty}^{+\\infty} \\psi x^2 \\psi dx $$.\n",
    "\n",
    "The quantity you want the expectation value of gets sandwiched between two copies of the wave function. (The wave function on the left is supposed to be the complex conjugate, but we're only working with real $\\psi$s for now.)\n",
    "\n",
    "### Numerical Integration\n",
    "\n",
    "If you know an exact expression for $\\psi$, you might be able to carry out the integrals above. However, most of the time we don't know $\\psi$ but rather have a list of values for $\\psi$, obtained from a computational method like the Shooting Method. However, these numerical values give us all the information we need to calcualte expectation values.\n",
    "\n",
    "We can **numerically integrate** an expectation value using a simple Reimann sum. For example, the expectation value of position is\n",
    "\n",
    "$$ \\langle x \\rangle = \\sum_j \\psi_j x_j \\psi_j dx,$$\n",
    "\n",
    "where $dx$ is our step size from the Shooting Method. We already have the $\\psi_n$s and the $x_j$s stored in arrays after completing the Shooting Method, so we just need a **loop** to carry out the summation.\n",
    "\n",
    "## Step 4: Expectation values with $R$\n",
    "\n",
    "We can also calcualte expectation values from $R_{nl}$. The only pieces that are different are the integration bounds ($0$ to $\\infty$) and the addition of a factor of $r^2$ in the integrand. This comes from carrying out integrals in spherical coordinates. So, for example, the exepctation value of $r$ is\n",
    "\n",
    "$$ \\langle r \\rangle = \\int_{0}^{\\infty} R_{nl} r R_{nl} r^2 dr $$.\n",
    "\n",
    "These differences show up in the computational summation, as well:\n",
    "\n",
    "$$ \\langle r \\rangle = \\sum_j R_j r_j R_j r_j^2 dx.$$\n",
    "\n",
    "What units should $R$ have, based on this expectation value integral?\n",
    "\n",
    "[Add your answer here.]\n",
    "\n",
    "Use the exact expression for $R_{10}(r) = \\frac{2}{a_0^{3/2}} e^{-r/a_0}$ to find $\\langle r \\rangle$ exactly, where $a_0$ is the **Bohr radius**.\n",
    "\n",
    "[Add your answer here. Format your math with $\\LaTeX$.]"
   ]
  },
  {
   "cell_type": "markdown",
   "metadata": {},
   "source": [
    "## Step 5: $\\langle r \\rangle$ and $\\langle r^2 \\rangle$ for the Hydrogen Atom\n",
    "\n",
    "In the code cell below, finish the loop so that it calculates and prints $\\langle r \\rangle$ and $\\langle r^2 \\rangle$. Record these values for each pair of $n$ and $l$ that you used above. What patterns do you notice as you increase $n$ and $l$?\n",
    "\n",
    "[Add your answers here.]"
   ]
  },
  {
   "cell_type": "code",
   "execution_count": 11,
   "metadata": {},
   "outputs": [
    {
     "name": "stdout",
     "output_type": "stream",
     "text": [
      "0.0047300731033367155\n"
     ]
    }
   ],
   "source": [
    "expectationr = 0\n",
    "expectationr2 = 0\n",
    "for i in range(len(rArray)):\n",
    "    expectationr = expectationr + ??\n",
    "    expectationr2 = expectationr2 + ??\n",
    "print(expectationr)\n",
    "print(expectationr2)"
   ]
  },
  {
   "cell_type": "markdown",
   "metadata": {},
   "source": [
    "## Step 6: Uncertainty\n",
    "\n",
    "One of the most important quantities in quantum mecahnics is the **uncertainty** (or standard deviation) in a measurable quantity. Uncertainy is defined as the expectation value of the square minus the square of the expectation value, all under a square root. **That's a mouthful**; it's more easily written with math:\n",
    "\n",
    "$$\n",
    "\\Delta r = \\sqrt{ \\langle r^2 \\rangle - \\langle r \\rangle^2 }.\n",
    "$$\n",
    "\n",
    "Calculate $\\Delta r$ for each pair of $n$ and $l$ that you used above. What pattern do you notice in $\\Delta r$ as the quantum numbers increse? (You might like to have Python do the math for you.)\n",
    "\n",
    "[Add your answer here.]"
   ]
  },
  {
   "cell_type": "code",
   "execution_count": 12,
   "metadata": {},
   "outputs": [],
   "source": [
    "# Here's a code cell, in case that's helpful!"
   ]
  },
  {
   "cell_type": "markdown",
   "metadata": {},
   "source": [
    "# EXTRA CREDIT\n",
    "## Step 7: Repeat for Helium et al\n",
    "Repeat this entire notebook for the helium atom (changing the atomic number $Z$ to 2). Then repeat it for lithium ($Z = 3$), and beryllim ($Z = 4$), and more elements until you can explain the pattern in how $E_n$ and $R_{nl}$ change as you move up the periodic table."
   ]
  }
 ],
 "metadata": {
  "kernelspec": {
   "display_name": "Python 3",
   "language": "python",
   "name": "python3"
  },
  "language_info": {
   "codemirror_mode": {
    "name": "ipython",
    "version": 3
   },
   "file_extension": ".py",
   "mimetype": "text/x-python",
   "name": "python",
   "nbconvert_exporter": "python",
   "pygments_lexer": "ipython3",
   "version": "3.6.5"
  }
 },
 "nbformat": 4,
 "nbformat_minor": 2
}
