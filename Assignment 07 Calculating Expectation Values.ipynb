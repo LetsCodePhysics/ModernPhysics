{
 "cells": [
  {
   "cell_type": "markdown",
   "metadata": {},
   "source": [
    "# Assignment 7 Calculating Expectation Values\n",
    "\n",
    "based on https://www.compadre.org/PICUP/exercises/exercise.cfm?I=115&A=shooting by Andy Rundquist\n",
    "\n",
    "This Assignment should take you approximately 90 minutes to complete. It requires you to use your results from a successfully completed Assignment 6, so you'll need to complete that Assignment first.\n",
    "\n",
    "After completing this Assignment, you will be able to...\n",
    "* Calculate expectation values using numerical integration.\n",
    "* Calculate uncertainty based on expectation values.\n",
    "* Evaluate patterns in expectation values and uncertainty based on changes in energy level.\n",
    "\n",
    "Dr. Lane welcomes your questions about this Assignment. Please send or bring a copy of your work-in-progress with your questions."
   ]
  },
  {
   "cell_type": "markdown",
   "metadata": {},
   "source": [
    "## Theory\n",
    "\n",
    "We learned in Assignment 6 that the wave function $\\psi$ tells you the probability density of where you can find the electron, but we didn't really do anything with this knowledge. In order to extract information from $\\psi$, it's helpful to calculate **expectation values** of physically measurable quantities. An expectation value represents the average value you would *expect* to see after measuring that quantity many times.\n",
    "\n",
    "Suppose, for example, we have an electron with a wave function $\\psi$ (which we get from the Shooting Method in Assignment 6) and we want to measure its position $x$ many times. The expectation value of $x$, deonted $\\langle x \\rangle$, is calculated with an integral:\n",
    "\n",
    "$$ \\langle x \\rangle = \\int_{-\\infty}^{+\\infty} \\psi x \\psi dx $$.\n",
    "\n",
    "Similarly, if you wanted the expectation value of $x^2$, you would integrate\n",
    "\n",
    "$$ \\langle x^2 \\rangle = \\int_{-\\infty}^{+\\infty} \\psi x^2 \\psi dx $$.\n",
    "\n",
    "The quantity you want the expectation value of gets sandwiched between two copies of the wave function. (The wave function on the left is supposed to be the complex conjugate, but we're only working with real $\\psi$s for now.)\n",
    "\n",
    "## Numerical Integration\n",
    "\n",
    "If you know an exact expression for $\\psi$, you might be able to carry out the integrals above. However, most of the time we don't know $\\psi$ but rather have a list of values for $\\psi$, obtained from a computational method like the Shooting Method. However, these numerical values give us all the information we need to calcualte expectation values.\n",
    "\n",
    "We can **numerically integrate** an expectation value using a simple Reimann sum. For example, the expectation value of position is\n",
    "\n",
    "$$ \\langle x \\rangle = \\sum_j \\psi_j x_j \\psi_j dx,$$\n",
    "\n",
    "where $dx$ is our step size from the Shooting Method. We already have the $\\psi_j$s and the $x_j$s stored in arrays after completing the Shooting Method, so we just need a **loop** to carry out the summation."
   ]
  },
  {
   "cell_type": "markdown",
   "metadata": {},
   "source": [
    "## Step 1: $\\langle x \\rangle$ for the Infinite Square Well\n",
    "##### CODE DISCUSSION \n",
    "We'll start with the infinite square well, which has $V=0$ inside the well and $V=\\infty$ outside the well. In the code cells below, copy and paste the energy value that produces one maximum in the wave function from Assignment 6."
   ]
  },
  {
   "cell_type": "code",
   "execution_count": 1,
   "metadata": {},
   "outputs": [],
   "source": [
    "from pylab import *\n",
    "\n",
    "#UNITS: All lengths are in nm, all energies/masses are in eV.\n",
    "hbar = 197 # hbar*c = 197 eV*nm\n",
    "me = 511000 # me*c^2 = 511000 eV\n",
    "\n",
    "def V(x):\n",
    "    return 0\n",
    "\n",
    "def psiDoublePrime(x,psi):\n",
    "    return 2*me/hbar**2*(V(x)-E)*psi"
   ]
  },
  {
   "cell_type": "code",
   "execution_count": 8,
   "metadata": {},
   "outputs": [
    {
     "data": {
      "image/png": "[encoded data removed]",
      "text/plain": [
       "<Figure size 432x288 with 1 Axes>"
      ]
     },
     "metadata": {
      "needs_background": "light"
     },
     "output_type": "display_data"
    }
   ],
   "source": [
    "# Enter your guess for the energy here. Units are eV.\n",
    "E = 0.095\n",
    "\n",
    "# Enter minimum and maximum x and initial values for psi and psiPrime.\n",
    "xmin = 0\n",
    "xmax = 4\n",
    "psi = 0\n",
    "psiPrime = 1\n",
    "nPoints = 100\n",
    "\n",
    "dx = (xmax-xmin)/nPoints\n",
    "\n",
    "xArray = linspace(xmin,xmax,nPoints)\n",
    "psiArray = zeros(nPoints)\n",
    "\n",
    "for j in range(len(xArray)):\n",
    "    psiArray[j] = psi # Record previous value of psi.\n",
    "    psiPrime += psiDoublePrime(xArray[j],psi)*dx # Step forward with psiPrime.\n",
    "    psi += psiPrime*dx # Step forward with psi.\n",
    "\n",
    "# Create plot\n",
    "figure(1)\n",
    "plot(xArray, psiArray, linewidth=2)\n",
    "xlabel('x (nm)')\n",
    "ylabel('psi (nm^-1/2)')\n",
    "grid(True)\n",
    "show()"
   ]
  },
  {
   "cell_type": "markdown",
   "metadata": {},
   "source": [
    "Run the two code cells above. Then, run the code cell below to calculate $\\langle x \\rangle$."
   ]
  },
  {
   "cell_type": "code",
   "execution_count": 11,
   "metadata": {},
   "outputs": [
    {
     "name": "stdout",
     "output_type": "stream",
     "text": [
      "0.0047300731033367155\n"
     ]
    }
   ],
   "source": [
    "expectationX = 0\n",
    "for i in range(len(xArray)):\n",
    "    expectationX = expectationX+psiArray[i]*xArray[i]*psiArray[i]*dx\n",
    "print(expectationX)"
   ]
  },
  {
   "cell_type": "markdown",
   "metadata": {},
   "source": [
    "What does the ``[i]`` piece indicate in the code above? Why is is necessary that ``psiArray`` and ``xArray`` use the same value ``i``? How does this loop carry out a Reimann sum?\n",
    "\n",
    "[Add your answer here.]\n",
    "\n",
    "What value does the code produce for $\\langle x \\rangle$? Remember: There's lots of rounding error in numerical integration like this. Is the value near a special number, relevant to the problem? (If you don't see it, try moving the well to ``xmin=0`` and ``xmax=4``. Now what do you see?)\n",
    "\n",
    "[Add your answers here.]\n",
    "\n",
    "Repeat this process using the eigeneneriges that give a $\\psi$ with 2 maxima, 3 maxima, ... all the way up to the highest energy you recorded in Assignment 6. (You'll need to re-run the Shooting Method each time, and then run the calculation of $\\langle x \\rangle$.) What do you notice about the values of $\\langle x \\rangle$?\n",
    "\n",
    "[Add your answers here.]\n",
    "\n",
    "Expectation values are probably a new concept to you, because we usually don't talk about them in classical mechanics. After all, if we know $x(t)$ exactly, why would we need to talk about averages? However, we can evaluate expectation values in classical mechanics, sometimes with just common-sense reasoning. Let's suppose you have a classical ball bouncing back and forth in a classical box. If you took many measurements of the ball's position, where in the box would the average position be? (No math necessary; just think of it visually.) How does this classical result compare with the quantum mechanical result?\n",
    "\n",
    "[Add your answers here.]"
   ]
  },
  {
   "cell_type": "markdown",
   "metadata": {},
   "source": [
    "## Step 2: $\\langle x^2 \\rangle$ for the Infinite Square Well\n",
    "##### CODE DISCUSSION \n",
    "In the code cell below, copy and paste the calculation of $\\langle x \\rangle$. Then, modify it to calculate $\\langle x^2 \\rangle$, instead. (You might change the name of ``expectationX`` to ``expectationX2`` to avoid confusion."
   ]
  },
  {
   "cell_type": "code",
   "execution_count": null,
   "metadata": {},
   "outputs": [],
   "source": []
  },
  {
   "cell_type": "markdown",
   "metadata": {},
   "source": [
    "Run your new code for the same eigenergies that you used in Step 1. What pattern do you notice in $\\langle x^2 \\rangle$ as the energy level increases?\n",
    "\n",
    "[Add your answers here.]"
   ]
  },
  {
   "cell_type": "markdown",
   "metadata": {},
   "source": [
    "## Step 3: Uncertainty\n",
    "##### CODE DISCUSSION \n",
    "One of the most important quantities in quantum mecahnics is the **uncertainty** (or standard deviation) in a measurable quantity. Uncertainy is defined as the expectation value of the square minus the square of the expectation value, all under a square root. **That's a mouthful**; it's more easily written with math:\n",
    "\n",
    "$$\n",
    "\\Delta x = \\sqrt{ \\langle x^2 \\rangle - \\langle x \\rangle^2 }.\n",
    "$$\n",
    "\n",
    "Calculate $\\Delta x$ for each eigenergy in the infinite square well that you used above. What pattern do you notice in $\\Delta x$ as the energy increases? (You might like to have Python do the math for you.)\n",
    "\n",
    "[Add your answer here.]"
   ]
  },
  {
   "cell_type": "code",
   "execution_count": 12,
   "metadata": {},
   "outputs": [],
   "source": [
    "# Here's a code cell, in case that's helpful!"
   ]
  },
  {
   "cell_type": "markdown",
   "metadata": {},
   "source": [
    "## Step 4: Expectation Values of Momentum\n",
    "##### CODE DISCUSSION MATH\n",
    "The other measurable quantity we're interested in is the momentum and its square. In quantum mecahnics, momentum is not a number, but an **operator**:\n",
    "$$\n",
    "\\begin{eqnarray}p & = & \\frac{\\hbar}{i}\\frac{d}{dx} \\\\\n",
    "p^2 &=& -\\hbar^2 \\frac{d^2}{dx^2}.\n",
    "\\end{eqnarray}\n",
    "$$\n",
    "\n",
    "This is where the sandwiching order in the expectation value is crucial:\n",
    "\n",
    "$$ \\langle p \\rangle = \\int_{-\\infty}^{+\\infty} \\psi \\left( \\frac{\\hbar}{i}\\frac{d}{dx} \\right) \\psi dx$$\n",
    "\n",
    "means we have to take a derivative of the $\\psi$ on the right, then multiply by the $\\psi$ on the left. Similarly,\n",
    "\n",
    "$$ \\langle p^2 \\rangle = \\int_{-\\infty}^{+\\infty} \\psi \\left( -\\hbar^2 \\frac{d^2}{dx^2} \\right) \\psi dx$$\n",
    "\n",
    "means we have to take two derivatives of the $\\psi$ on the right, then multiply by the $\\psi$ on the left. \n",
    "\n",
    "The $i = \\sqrt{-1}$ in the momentum operator is bothersome. Since a measurement of momentum must produce a real number, it means the expectation value of momentum for our real-valued $\\psi$ had better always come out to be zero. If you ever have an $i$ leftover in an expectation value, there's a mistake somewhere you need to fix.\n",
    "\n",
    "We know that the eigenfunctions for the infinite square well are \n",
    "$$\n",
    "\\psi_n(x) = \\sqrt{ \\frac{2}{L} \\sin\\left(\\frac{n\\pi x}{L}\\right) }\n",
    "$$\n",
    "Show that this eigenfunction satisfies $\\langle p \\rangle = 0$ as required.\n",
    "\n",
    "[Write your answer here. Format your math with $\\LaTeX$.]\n",
    "\n",
    "Our Shooting Method code is already calculating the values of $\\psi'$ and $\\psi''$ for us; we just need to tell it to store this information. In the code cells below, copy and paste your code for the Shooting Method with the infinite square well. Add an array ``psiPrimeArray`` that will store the values of $\\psi'$ and an array ``\\psiDoublePrimeArray`` that will store the values of $\\psi''$, just as ``\\psiArray`` stores the values of $\\psi$."
   ]
  },
  {
   "cell_type": "code",
   "execution_count": null,
   "metadata": {},
   "outputs": [],
   "source": []
  },
  {
   "cell_type": "code",
   "execution_count": 69,
   "metadata": {},
   "outputs": [],
   "source": []
  },
  {
   "cell_type": "markdown",
   "metadata": {},
   "source": [
    "Now, in the code cell below, set up a calculation of $\\langle p \\rangle$ and $\\langle p^2 \\rangle$. Calculate these expectation values and $\\Delta p$ for each of the eigenenergies that you used earlier. What pattern do you notice as the energy level increases?\n",
    "\n",
    "[Add your answers here.]"
   ]
  },
  {
   "cell_type": "code",
   "execution_count": null,
   "metadata": {},
   "outputs": [],
   "source": []
  },
  {
   "cell_type": "markdown",
   "metadata": {},
   "source": [
    "## Step 5: The Uncertainty Principle\n",
    "##### CODE DISCUSSION \n",
    "The Heisenberg Uncertainty Principle (HUP) says that it's impossible to know with exact precision both the position and momentum of an electron at the same time. Mathematically, this is expressed as \n",
    "\n",
    "$$\\Delta p \\Delta x > 0$$.\n",
    "\n",
    "(Actually, it's greater than or equal to a minimum value of $\\hbar/2$, but that requires us to normalize $\\psi$ and I've overloaded your brain enough already.) Confirm that the HUP applies to $\\Delta p$ and $\\Delta x$ for each eigenenergy you've investigated above.\n",
    "\n",
    "[Add your answers here.]"
   ]
  },
  {
   "cell_type": "markdown",
   "metadata": {},
   "source": [
    "# EXTRA CREDIT\n",
    "## Step 6: Repeat for the Harmonic Oscillator\n",
    "Repeat this entire notebook for the Harmonic Oscillator. This extra credit step is worth one entire Assignment."
   ]
  }
 ],
 "metadata": {
  "kernelspec": {
   "display_name": "Python 3",
   "language": "python",
   "name": "python3"
  },
  "language_info": {
   "codemirror_mode": {
    "name": "ipython",
    "version": 3
   },
   "file_extension": ".py",
   "mimetype": "text/x-python",
   "name": "python",
   "nbconvert_exporter": "python",
   "pygments_lexer": "ipython3",
   "version": "3.6.8"
  }
 },
 "nbformat": 4,
 "nbformat_minor": 2
}
