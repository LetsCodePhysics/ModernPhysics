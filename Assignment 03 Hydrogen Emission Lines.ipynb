{
 "cells": [
  {
   "cell_type": "markdown",
   "metadata": {},
   "source": [
    "# Assignment 3 Hydrogen Emission Lines\n",
    "based on https://www.compadre.org/PICUP/exercises/Exercise.cfm?A=Rydberg&S=6 by M.P. Kuchera \n",
    "\n",
    "![hydrogren](https://upload.wikimedia.org/wikipedia/commons/thumb/8/83/Hydrogen_discharge_tube.jpg/1280px-Hydrogen_discharge_tube.jpg)\n",
    "\n",
    "This Assignment should take you approximately 120 minutes to complete.\n",
    "\n",
    "After completing this assignment, you will be able to...\n",
    "* Define a custom function. (Step 1)\n",
    "* Discuss the series of emission lines for hydrogen. (Steps 1-4)\n",
    "* Compare your code's results against standard values. (Steps 2-4)\n",
    "* Create a loop. (Step 3)\n",
    "* Create a double loop. (Step 4)\n",
    "\n",
    "Optionally, you will be able to...\n",
    "* Implement an if statement to present qualitative information. (Step 5)\n",
    "\n",
    "In order to emit light, an atom's electron must fall from a higher energy level $k$ to a lower energy level $n$. In hydrogen, the wavelength of the light emitted due to such a fall is given by the Rydberg formula:\n",
    "$$\\frac{1}{\\lambda} = R\\big(\\frac{1}{n^2}-\\frac{1}{k^2}\\big)$$\n",
    "where $R = 1.097\\times 10^{-2}$nm$^{-1}$ and $n$ and $k$ are positive integers labeling the energy levels involved in the transition. \n",
    "\n",
    "For a given value of $n$, the wavelenghts for all $k>n$ form a series:\n",
    "* n = 1 for Lyman\n",
    "* n = 2 for Balmer\n",
    "* n = 3 for Paschen\n",
    "* n = 4 for Brackett\n",
    "* n = 5 for Pfund."
   ]
  },
  {
   "cell_type": "markdown",
   "metadata": {},
   "source": [
    "## Step 1\n",
    "##### CODE\n",
    "Since we'll be using the Rydberg formula repeatedly, it's helpful to **define a function** to carry out this calculation for us. Python allows you to define your own function as follows:\n",
    "\n",
    "``def fun(var1, var2, ...):\n",
    "    calculations\n",
    "    return value``\n",
    "\n",
    "``fun`` is the name of the function. You should always pick a function name that makes sense to you. We'll call this function ``wavelength`` since that's what we're interested in calculating.\n",
    "\n",
    "The ``var1, var2, ...`` contains **any number of input variables** that you want. If you're defining a simple function like $f(x) = x^2$, you just need one input variable ``x``. For the Rydberg formula, we need two inputs: ``n`` and ``k``.\n",
    "\n",
    "The ``calculations`` section contains all the lines of code necessary to carry out the function. Notice that this section is *indented* just like a loop, to indicate that the lines of code fall under the function. You can do anything in these calculations that you can normally in Python. You can loop, print values, etc.\n",
    "\n",
    "Finally, the ``return`` statement presents the calculated value that you want the function to return. The ``value`` after ``return`` can be a single variable or a calculation. For example, to set up a function for $f(x) = x^2$, either\n",
    "\n",
    "``def square(x):\n",
    "    f = x**2\n",
    "    return f``\n",
    "    \n",
    "or  \n",
    "\n",
    "``def square(x):\n",
    "    return x**2``\n",
    "  \n",
    "will produce the same result.\n",
    "\n",
    "The code cell below defines a function to use the Rydberg formula, but it's incomplete. Replace each ``??`` with the appropriate code."
   ]
  },
  {
   "cell_type": "code",
   "execution_count": 1,
   "metadata": {},
   "outputs": [
    {
     "ename": "SyntaxError",
     "evalue": "invalid syntax (<ipython-input-1-89f46c9192a5>, line 4)",
     "output_type": "error",
     "traceback": [
      "\u001b[1;36m  File \u001b[1;32m\"<ipython-input-1-89f46c9192a5>\"\u001b[1;36m, line \u001b[1;32m4\u001b[0m\n\u001b[1;33m    R = ??\u001b[0m\n\u001b[1;37m        ^\u001b[0m\n\u001b[1;31mSyntaxError\u001b[0m\u001b[1;31m:\u001b[0m invalid syntax\n"
     ]
    }
   ],
   "source": [
    "from pylab import *\n",
    "\n",
    "def wavelength(n,k):\n",
    "    R = ??\n",
    "    oneOverLambda = R*(1/n**2-1/k**2)\n",
    "    return ??\n"
   ]
  },
  {
   "cell_type": "markdown",
   "metadata": {},
   "source": [
    "Run this code to confirm that it produces no error messages. Now, whenever we need to calculate an emission wavelength, we can use this function!"
   ]
  },
  {
   "cell_type": "markdown",
   "metadata": {},
   "source": [
    "## Step 2\n",
    "##### CODE DISCUSSION\n",
    "Let's see how well our function works. In the code cell below, try a few different values for ``k`` (must be greater than ``n``) and keep ``n = 1`` to confirm that your code produces the wavelengths for the [Lyman series](https://en.wikipedia.org/wiki/Lyman_series#The_Lyman_series). If it doesn't, make adjustments accordingly."
   ]
  },
  {
   "cell_type": "code",
   "execution_count": 2,
   "metadata": {},
   "outputs": [
    {
     "ename": "SyntaxError",
     "evalue": "invalid syntax (<ipython-input-2-fc60cd09395c>, line 2)",
     "output_type": "error",
     "traceback": [
      "\u001b[1;36m  File \u001b[1;32m\"<ipython-input-2-fc60cd09395c>\"\u001b[1;36m, line \u001b[1;32m2\u001b[0m\n\u001b[1;33m    k = ??\u001b[0m\n\u001b[1;37m        ^\u001b[0m\n\u001b[1;31mSyntaxError\u001b[0m\u001b[1;31m:\u001b[0m invalid syntax\n"
     ]
    }
   ],
   "source": [
    "n = 1\n",
    "k = ??\n",
    "\n",
    "print(n,k,wavelength(n,k))"
   ]
  },
  {
   "cell_type": "markdown",
   "metadata": {},
   "source": [
    "## Step 3\n",
    "##### CODE DISCUSSION\n",
    "Now automate this process with a loop. In the cell below, add code that will loop over values of ``k`` from ``n+1`` up to 11 and print the wavelength for each transition. Confirm that your code produces the correct results for the Lyman series (``n = 1``) and for the Balmer series (``n = 2``).  If it doesn't, make adjustments accordingly."
   ]
  },
  {
   "cell_type": "code",
   "execution_count": 2,
   "metadata": {},
   "outputs": [
    {
     "ename": "SyntaxError",
     "evalue": "invalid syntax (<ipython-input-2-fc60cd09395c>, line 2)",
     "output_type": "error",
     "traceback": [
      "\u001b[1;36m  File \u001b[1;32m\"<ipython-input-2-fc60cd09395c>\"\u001b[1;36m, line \u001b[1;32m2\u001b[0m\n\u001b[1;33m    k = ??\u001b[0m\n\u001b[1;37m        ^\u001b[0m\n\u001b[1;31mSyntaxError\u001b[0m\u001b[1;31m:\u001b[0m invalid syntax\n"
     ]
    }
   ],
   "source": [
    "n = 1\n",
    "k = ??\n",
    "\n",
    "[add loop here]:\n",
    "    print(n,k,wavelength(n,k))\n",
    "    [increase the value of k here]"
   ]
  },
  {
   "cell_type": "markdown",
   "metadata": {},
   "source": [
    "## Step 4\n",
    "##### CODE DISCUSSION\n",
    "Now make your code even more automated. In the cell below, add code that will loop over values of ``m`` from 1 to 5, with your loop over ``k`` *inside this loop*.\n",
    "\n",
    "When you wrap one loop around another, you're telling the code to repeat the inner loop multiple times each time it goes around the outter loop. For example,\n",
    "\n",
    "``x = 1\n",
    "while (x<3):\n",
    "    y = 1\n",
    "    while (y<3):\n",
    "        print(x,y)\n",
    "        y = y + 1\n",
    "    x = x + 1``\n",
    "    \n",
    "would produce \n",
    "\n",
    "``\n",
    "1 1\n",
    "1 2\n",
    "1 3\n",
    "2 1\n",
    "2 2\n",
    "2 3\n",
    "3 1\n",
    "3 2\n",
    "3 3``\n",
    "\n",
    "because the value of ``y`` resets every time ``x`` is increased."
   ]
  },
  {
   "cell_type": "code",
   "execution_count": 2,
   "metadata": {},
   "outputs": [
    {
     "ename": "SyntaxError",
     "evalue": "invalid syntax (<ipython-input-2-fc60cd09395c>, line 2)",
     "output_type": "error",
     "traceback": [
      "\u001b[1;36m  File \u001b[1;32m\"<ipython-input-2-fc60cd09395c>\"\u001b[1;36m, line \u001b[1;32m2\u001b[0m\n\u001b[1;33m    k = ??\u001b[0m\n\u001b[1;37m        ^\u001b[0m\n\u001b[1;31mSyntaxError\u001b[0m\u001b[1;31m:\u001b[0m invalid syntax\n"
     ]
    }
   ],
   "source": [
    "n = 1\n",
    "[add loop over n here]\n",
    "    k = ??\n",
    "\n",
    "    [add loop over k here]:\n",
    "        print(n,k,wavelength(n,k))\n",
    "        [increase the value of k here]\n",
    "        \n",
    "    [increase the value of n here]"
   ]
  },
  {
   "cell_type": "markdown",
   "metadata": {},
   "source": [
    "Now run your code and confirm that it produces the [correct wavelengths for the Lyman, Balmer, Paschen, Brackett, and Pfund series](https://en.wikipedia.org/wiki/Hydrogen_spectral_series).  If it doesn't, make adjustments accordingly."
   ]
  },
  {
   "cell_type": "markdown",
   "metadata": {},
   "source": [
    "# EXTRA CREDIT\n",
    "## Step 5\n",
    "\n",
    "These printed wavelength values are nice, but it would also be helpful if we knew what part of the electromagnetic spectrum they lie in, particularly whether they lie in the visible spectrum. We can modify the code to tell us this information using **if statements**.\n",
    "\n",
    "An if statement asks the computer to **check** for whether a given condition is true. For example, let's suppose we want to know whether the temperature outside is comfortable, defined as a temperature between 70 and 80 degrees Fahrenheit. (Let's agree to disagree over what's considered comfortable; this is just an example.) We could write a code like\n",
    "\n",
    "``temperature = ??\n",
    "if (70 <= temperature <= 80):\n",
    "    print(\"comfortable\")\n",
    "else:\n",
    "    print(\"not comfortable\")``\n",
    "    \n",
    "The value of ``temperature`` is determined or calculated, and then the code checks for whether this value falls into the specified range. If ``temperature`` does fall into this range, the code prints the first result. If ``temperature`` doesn't fall into this range, the code prints the second result. ``if`` asks the computer a question and tells the computer what to do if the answer is ``True``, and ``else`` designates what to do if the answer is ``False``.\n",
    "\n",
    "Of course, ``not comfortable`` isn't a very helpful result; we need to know if the temperature is too hot or too cold! We can extend this if statement with ``elif``, short for **else if**, which chains together several if statements.\n",
    "\n",
    "We could, for example, write\n",
    "\n",
    "``temperature = ??\n",
    "if (70 <= temperature <= 80):\n",
    "    print(\"comfortable\")\n",
    "elif (temperature > 80):\n",
    "    print(\"too hot\")\n",
    "elif (temperature < 70):\n",
    "    print(\"too cold\")``\n",
    "\n",
    "Create a function that tells us whether the input wavelength ``l`` is in the visible range, infrared range, or ultraviolet range of light. Add this function to your code above and use it to present this information alongside each wavelength's numerical value."
   ]
  }
 ],
 "metadata": {
  "kernelspec": {
   "display_name": "Python 3",
   "language": "python",
   "name": "python3"
  },
  "language_info": {
   "codemirror_mode": {
    "name": "ipython",
    "version": 3
   },
   "file_extension": ".py",
   "mimetype": "text/x-python",
   "name": "python",
   "nbconvert_exporter": "python",
   "pygments_lexer": "ipython3",
   "version": "3.6.8"
  }
 },
 "nbformat": 4,
 "nbformat_minor": 2
}
